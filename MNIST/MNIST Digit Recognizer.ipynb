{
 "cells": [
  {
   "cell_type": "markdown",
   "metadata": {},
   "source": [
    "# MNIST Digit Recognizer\n",
    "\n",
    "In this notebook we work with the famous MNIST digits dataset. Our task will be to use a convolutional neural network to correctly identify digits provided as greyscale images. We will use two different apporaches: one with an image data generator and one without. In the end we find that the approach using an image data generator is more accurate, which is not terribly surprising. Let's get started!\n",
    "\n",
    "## Imports\n",
    "Let's first import the standard libraries."
   ]
  },
  {
   "cell_type": "code",
   "execution_count": 2,
   "metadata": {},
   "outputs": [],
   "source": [
    "import numpy as np\n",
    "import pandas as pd\n",
    "import seaborn as sns\n",
    "import matplotlib.pyplot as plt\n",
    "\n",
    "sns.set_style('whitegrid') # preferred seaborn aesthetic\n",
    "%matplotlib inline"
   ]
  },
  {
   "cell_type": "markdown",
   "metadata": {},
   "source": [
    "The dataset is built into the tensorflow module. Let's import it."
   ]
  },
  {
   "cell_type": "code",
   "execution_count": 3,
   "metadata": {},
   "outputs": [],
   "source": [
    "from tensorflow.keras.datasets import mnist"
   ]
  },
  {
   "cell_type": "code",
   "execution_count": 4,
   "metadata": {},
   "outputs": [],
   "source": [
    "(X_train, y_train), (X_test, y_test) = mnist.load_data()"
   ]
  },
  {
   "cell_type": "markdown",
   "metadata": {},
   "source": [
    "## EDA\n",
    "Let's take a look at our data."
   ]
  },
  {
   "cell_type": "code",
   "execution_count": 5,
   "metadata": {},
   "outputs": [
    {
     "name": "stdout",
     "output_type": "stream",
     "text": [
      "Shape of training data: (60000, 28, 28)\n",
      "Shape of test data: (10000, 28, 28)\n"
     ]
    }
   ],
   "source": [
    "print('Shape of training data:', X_train.shape)\n",
    "print('Shape of test data:', X_test.shape)"
   ]
  },
  {
   "cell_type": "markdown",
   "metadata": {},
   "source": [
    "Our training set consists of 28 by 28 images with 60 000 images in total. Our test set has 10 000 images. Let's make sure all images in our set are indeed 28 by 28."
   ]
  },
  {
   "cell_type": "code",
   "execution_count": 6,
   "metadata": {},
   "outputs": [
    {
     "data": {
      "text/plain": [
       "<seaborn.axisgrid.JointGrid at 0x1c5f211cca0>"
      ]
     },
     "execution_count": 6,
     "metadata": {},
     "output_type": "execute_result"
    },
    {
     "data": {
      "image/png": "[encoded data removed]",
      "text/plain": [
       "<Figure size 432x432 with 3 Axes>"
      ]
     },
     "metadata": {
      "needs_background": "light"
     },
     "output_type": "display_data"
    }
   ],
   "source": [
    "# initialize variables\n",
    "widths = []\n",
    "heights = []\n",
    "\n",
    "# record the widths and heights of the images in our training set\n",
    "for i in range(0, X_train.shape[0]):\n",
    "    widths.append(X_train[i].shape[0])\n",
    "    heights.append(X_train[i].shape[1])\n",
    "    \n",
    "# create a jointplot of image sizes\n",
    "sns.jointplot(x = widths, y = heights)"
   ]
  },
  {
   "cell_type": "markdown",
   "metadata": {},
   "source": [
    "Every image in our training set is indeed 28 by 28.\n",
    "\n",
    "Let's take a look at an image in our training set."
   ]
  },
  {
   "cell_type": "code",
   "execution_count": 72,
   "metadata": {},
   "outputs": [
    {
     "name": "stdout",
     "output_type": "stream",
     "text": [
      "This number is 4\n"
     ]
    },
    {
     "data": {
      "image/png": "[encoded data removed]",
      "text/plain": [
       "<Figure size 432x288 with 1 Axes>"
      ]
     },
     "metadata": {
      "needs_background": "light"
     },
     "output_type": "display_data"
    }
   ],
   "source": [
    "# choose a random number\n",
    "num = np.random.randint(0,len(X_train)+1)\n",
    "\n",
    "# display the image\n",
    "plt.imshow(X_train[num], cmap = 'binary')\n",
    "print('This number is', y_train[num])"
   ]
  },
  {
   "cell_type": "markdown",
   "metadata": {},
   "source": [
    "## One-Hot Encoding the Labels\n",
    "\n",
    "Before we create our model we should one-hot encode the labels. Indeed, currently the labels are the digits themselves."
   ]
  },
  {
   "cell_type": "code",
   "execution_count": 8,
   "metadata": {
    "scrolled": true
   },
   "outputs": [
    {
     "data": {
      "text/plain": [
       "array([5, 0, 4, ..., 5, 6, 8], dtype=uint8)"
      ]
     },
     "execution_count": 8,
     "metadata": {},
     "output_type": "execute_result"
    }
   ],
   "source": [
    "y_train"
   ]
  },
  {
   "cell_type": "markdown",
   "metadata": {},
   "source": [
    "Let's one-hot encode."
   ]
  },
  {
   "cell_type": "code",
   "execution_count": 9,
   "metadata": {},
   "outputs": [],
   "source": [
    "from tensorflow.keras.utils import to_categorical"
   ]
  },
  {
   "cell_type": "code",
   "execution_count": 10,
   "metadata": {},
   "outputs": [],
   "source": [
    "y_train_cat = to_categorical(y_train)\n",
    "y_test_cat = to_categorical(y_test)"
   ]
  },
  {
   "cell_type": "markdown",
   "metadata": {},
   "source": [
    "## Using an Image Data Generator\n",
    "\n",
    "We use an image data generator to increase the robustness of our classifier. By applying random transformations to our images we generalize our model, thereby reducing overfitting.\n",
    "\n",
    "Before we use an image data generator we will need to rescale and reshape our data."
   ]
  },
  {
   "cell_type": "code",
   "execution_count": 11,
   "metadata": {},
   "outputs": [],
   "source": [
    "# rescale data\n",
    "X_test = X_test / X_train.max()\n",
    "X_train = X_train / X_train.max()\n",
    "\n",
    "# reshape data\n",
    "X_train = X_train.reshape(60000, 28, 28, 1)\n",
    "X_test = X_test.reshape(10000, 28, 28, 1)"
   ]
  },
  {
   "cell_type": "markdown",
   "metadata": {},
   "source": [
    "Now we create our image data generator."
   ]
  },
  {
   "cell_type": "code",
   "execution_count": 12,
   "metadata": {},
   "outputs": [],
   "source": [
    "from tensorflow.keras.preprocessing.image import ImageDataGenerator"
   ]
  },
  {
   "cell_type": "code",
   "execution_count": 61,
   "metadata": {},
   "outputs": [],
   "source": [
    "image_gen = ImageDataGenerator(rotation_range = 10, # rotate by up to 10 degrees\n",
    "                            width_shift_range = 0.05, # shift width by up to 5% \n",
    "                            height_shift_range = 0.05, # shift height by up to 5%\n",
    "                            shear_range = 10, # shear by up to 10 degrees\n",
    "                            zoom_range = 0.05, # zoom by up to 5%\n",
    "                            horizontal_flip = False, # do not flip images horizontally\n",
    "                            vertical_flip = False) # do not flip images vertically"
   ]
  },
  {
   "cell_type": "markdown",
   "metadata": {},
   "source": [
    "Let's take a look at how our image data generator changes our images. First we need to rescale and reshape our data."
   ]
  },
  {
   "cell_type": "code",
   "execution_count": 62,
   "metadata": {},
   "outputs": [
    {
     "data": {
      "text/plain": [
       "Text(0.5, 1.0, 'Image After Transformation')"
      ]
     },
     "execution_count": 62,
     "metadata": {},
     "output_type": "execute_result"
    },
    {
     "data": {
      "image/png": "[encoded data removed]",
      "text/plain": [
       "<Figure size 576x288 with 2 Axes>"
      ]
     },
     "metadata": {
      "needs_background": "light"
     },
     "output_type": "display_data"
    }
   ],
   "source": [
    "# get a random number\n",
    "num = np.random.randint(0, len(X_train) + 1)\n",
    "\n",
    "# display an image both before and after a transformation\n",
    "plt.figure(figsize = (8, 4))\n",
    "\n",
    "# plot image before transformation\n",
    "plt.subplot(1, 2, 1)\n",
    "plt.imshow(X_train[num], cmap = 'binary')\n",
    "plt.title('Image Before Transformation')\n",
    "\n",
    "# plot image after transformation\n",
    "plt.subplot(1, 2, 2)\n",
    "plt.imshow(image_gen.random_transform(X_train[num]), cmap = 'binary')\n",
    "plt.title('Image After Transformation')"
   ]
  },
  {
   "cell_type": "markdown",
   "metadata": {},
   "source": [
    "## Predictions with an Image Data Generator\n",
    "\n",
    "Now let's create our model to recognize digits in the test set. We use a convolutional neural network."
   ]
  },
  {
   "cell_type": "code",
   "execution_count": 21,
   "metadata": {},
   "outputs": [],
   "source": [
    "from tensorflow.keras.models import Sequential\n",
    "from tensorflow.keras.layers import Dense, Dropout, Conv2D, MaxPool2D, Flatten\n",
    "from tensorflow.keras.callbacks import EarlyStopping\n",
    "from sklearn.model_selection import train_test_split\n",
    "from sklearn.metrics import classification_report, confusion_matrix"
   ]
  },
  {
   "cell_type": "code",
   "execution_count": 63,
   "metadata": {},
   "outputs": [
    {
     "name": "stdout",
     "output_type": "stream",
     "text": [
      "Epoch 1/1000\n",
      "1500/1500 [==============================] - 28s 18ms/step - loss: 0.5407 - accuracy: 0.8276 - val_loss: 0.0976 - val_accuracy: 0.9693\n",
      "Epoch 2/1000\n",
      "1500/1500 [==============================] - 28s 19ms/step - loss: 0.1159 - accuracy: 0.9639 - val_loss: 0.0567 - val_accuracy: 0.9813\n",
      "Epoch 3/1000\n",
      "1500/1500 [==============================] - 28s 19ms/step - loss: 0.0834 - accuracy: 0.9748 - val_loss: 0.0562 - val_accuracy: 0.9818\n",
      "Epoch 4/1000\n",
      "1500/1500 [==============================] - 28s 19ms/step - loss: 0.0673 - accuracy: 0.9793 - val_loss: 0.0455 - val_accuracy: 0.9854\n",
      "Epoch 5/1000\n",
      "1500/1500 [==============================] - 28s 19ms/step - loss: 0.0615 - accuracy: 0.9810 - val_loss: 0.0451 - val_accuracy: 0.9872\n",
      "Epoch 6/1000\n",
      "1500/1500 [==============================] - 28s 19ms/step - loss: 0.0572 - accuracy: 0.9825 - val_loss: 0.0444 - val_accuracy: 0.9862\n",
      "Epoch 7/1000\n",
      "1500/1500 [==============================] - 28s 19ms/step - loss: 0.0535 - accuracy: 0.9843 - val_loss: 0.0401 - val_accuracy: 0.9877\n",
      "Epoch 8/1000\n",
      "1500/1500 [==============================] - 29s 20ms/step - loss: 0.0447 - accuracy: 0.9869 - val_loss: 0.0438 - val_accuracy: 0.9869\n",
      "Epoch 9/1000\n",
      "1500/1500 [==============================] - 28s 19ms/step - loss: 0.0453 - accuracy: 0.9874 - val_loss: 0.0404 - val_accuracy: 0.9883\n",
      "Epoch 10/1000\n",
      "1500/1500 [==============================] - 29s 19ms/step - loss: 0.0484 - accuracy: 0.9859 - val_loss: 0.0322 - val_accuracy: 0.9898\n",
      "Epoch 11/1000\n",
      "1500/1500 [==============================] - 29s 19ms/step - loss: 0.0423 - accuracy: 0.9871 - val_loss: 0.0363 - val_accuracy: 0.9888\n",
      "Epoch 12/1000\n",
      "1500/1500 [==============================] - 30s 20ms/step - loss: 0.0387 - accuracy: 0.9887 - val_loss: 0.0341 - val_accuracy: 0.9901\n",
      "Epoch 13/1000\n",
      "1500/1500 [==============================] - 29s 19ms/step - loss: 0.0413 - accuracy: 0.9870 - val_loss: 0.0379 - val_accuracy: 0.9893\n",
      "              precision    recall  f1-score   support\n",
      "\n",
      "           0       1.00      0.99      1.00      1185\n",
      "           1       1.00      0.99      1.00      1348\n",
      "           2       0.99      1.00      0.99      1192\n",
      "           3       1.00      1.00      1.00      1226\n",
      "           4       0.99      0.99      0.99      1168\n",
      "           5       0.99      0.99      0.99      1084\n",
      "           6       0.99      1.00      0.99      1184\n",
      "           7       0.99      1.00      0.99      1253\n",
      "           8       0.99      0.99      0.99      1170\n",
      "           9       0.99      0.99      0.99      1190\n",
      "\n",
      "    accuracy                           0.99     12000\n",
      "   macro avg       0.99      0.99      0.99     12000\n",
      "weighted avg       0.99      0.99      0.99     12000\n",
      "\n",
      "[[1178    1    3    0    0    0    2    0    1    0]\n",
      " [   0 1339    1    0    1    0    1    6    0    0]\n",
      " [   0    0 1187    0    0    0    0    3    1    1]\n",
      " [   0    0    2 1221    0    2    0    1    0    0]\n",
      " [   0    2    0    0 1161    0    0    1    1    3]\n",
      " [   0    0    0    3    0 1071    4    1    2    3]\n",
      " [   0    0    0    0    1    2 1181    0    0    0]\n",
      " [   0    0    1    1    0    0    0 1247    1    3]\n",
      " [   2    0    1    2    0    1    2    1 1160    1]\n",
      " [   0    0    0    0    6    1    0    3    4 1176]]\n"
     ]
    }
   ],
   "source": [
    "# create the model\n",
    "model = Sequential()\n",
    "model.add(Conv2D(filters = 32, kernel_size = 4, input_shape = (28, 28, 1), activation = 'relu'))\n",
    "model.add(MaxPool2D(pool_size = 2))\n",
    "model.add(Conv2D(filters = 32, kernel_size = 4, input_shape = (28, 28, 1), activation = 'relu'))\n",
    "model.add(MaxPool2D(pool_size = 2))\n",
    "model.add(Flatten())\n",
    "model.add(Dense(units = 256, activation = 'relu'))\n",
    "model.add(Dropout(0.5))\n",
    "model.add(Dense(units = 10, activation = 'softmax'))\n",
    "model.compile(optimizer = 'adam', loss = 'categorical_crossentropy', metrics = ['accuracy'])\n",
    "\n",
    "# perform a train-test split\n",
    "X_trainer, X_tester, y_trainer, y_tester = train_test_split(X_train, y_train, test_size = 0.2, random_state = 18,\n",
    "                                                            stratify = y_train)\n",
    "\n",
    "# one-hot encode y_trainer and y_tester\n",
    "y_trainer_cat = to_categorical(y_trainer)\n",
    "y_tester_cat = to_categorical(y_tester)\n",
    "\n",
    "# apply the image data generator to the training and validation sets\n",
    "image_gen_train = image_gen.flow(x = X_trainer, y = y_trainer_cat, shuffle = True)\n",
    "image_gen_test = image_gen.flow(x = X_tester, y = y_tester_cat, shuffle = True)\n",
    "\n",
    "# fit the model\n",
    "stop = EarlyStopping(patience = 3, restore_best_weights = True)\n",
    "model.fit(x = image_gen_train, epochs = 1000, validation_data = image_gen_test, callbacks = [stop])\n",
    "\n",
    "# make predictions\n",
    "pred_probs = model.predict(X_tester)\n",
    "pred = [np.argmax(i) for i in pred_probs]\n",
    "\n",
    "# print metrics\n",
    "print(classification_report(y_tester, pred))\n",
    "print(confusion_matrix(y_tester, pred))"
   ]
  },
  {
   "cell_type": "markdown",
   "metadata": {},
   "source": [
    "Our network seems to work rather well. How many images were misclassified?"
   ]
  },
  {
   "cell_type": "code",
   "execution_count": 64,
   "metadata": {},
   "outputs": [
    {
     "name": "stdout",
     "output_type": "stream",
     "text": [
      "Number of misclassified images in validation set: 79\n",
      "Total number of images in validation set: 12000\n",
      "Percentage of misclassified images: 0.6583333333333333%\n"
     ]
    }
   ],
   "source": [
    "print('Number of misclassified images in validation set:', np.sum([y_tester != pred]))\n",
    "print('Total number of images in validation set:', len(X_tester))\n",
    "print('Percentage of misclassified images:', str(100 * np.sum([y_tester != pred]) / len(X_tester))+'%')"
   ]
  },
  {
   "cell_type": "markdown",
   "metadata": {},
   "source": [
    "This model performs quite well so we will use it to predict on the test set."
   ]
  },
  {
   "cell_type": "code",
   "execution_count": 71,
   "metadata": {},
   "outputs": [
    {
     "name": "stdout",
     "output_type": "stream",
     "text": [
      "Epoch 1/10\n",
      "1875/1875 [==============================] - 31s 16ms/step - loss: 0.5109 - accuracy: 0.8350\n",
      "Epoch 2/10\n",
      "1875/1875 [==============================] - 30s 16ms/step - loss: 0.1066 - accuracy: 0.9674\n",
      "Epoch 3/10\n",
      "1875/1875 [==============================] - 30s 16ms/step - loss: 0.0748 - accuracy: 0.9778\n",
      "Epoch 4/10\n",
      "1875/1875 [==============================] - 30s 16ms/step - loss: 0.0637 - accuracy: 0.9803\n",
      "Epoch 5/10\n",
      "1875/1875 [==============================] - 31s 17ms/step - loss: 0.0521 - accuracy: 0.9839\n",
      "Epoch 6/10\n",
      "1875/1875 [==============================] - 38s 20ms/step - loss: 0.0523 - accuracy: 0.9837\n",
      "Epoch 7/10\n",
      "1875/1875 [==============================] - 40s 21ms/step - loss: 0.0478 - accuracy: 0.9856\n",
      "Epoch 8/10\n",
      "1875/1875 [==============================] - 40s 21ms/step - loss: 0.0526 - accuracy: 0.98480s - loss: 0.0527 - \n",
      "Epoch 9/10\n",
      "1875/1875 [==============================] - 39s 21ms/step - loss: 0.0388 - accuracy: 0.9880\n",
      "Epoch 10/10\n",
      "1875/1875 [==============================] - 39s 21ms/step - loss: 0.0389 - accuracy: 0.9881\n",
      "              precision    recall  f1-score   support\n",
      "\n",
      "           0       1.00      1.00      1.00       980\n",
      "           1       1.00      1.00      1.00      1135\n",
      "           2       1.00      0.99      1.00      1032\n",
      "           3       0.99      1.00      0.99      1010\n",
      "           4       1.00      0.99      0.99       982\n",
      "           5       1.00      0.99      0.99       892\n",
      "           6       1.00      1.00      1.00       958\n",
      "           7       0.99      1.00      0.99      1028\n",
      "           8       1.00      1.00      1.00       974\n",
      "           9       0.99      0.99      0.99      1009\n",
      "\n",
      "    accuracy                           1.00     10000\n",
      "   macro avg       1.00      1.00      1.00     10000\n",
      "weighted avg       1.00      1.00      1.00     10000\n",
      "\n",
      "[[ 979    0    0    0    0    0    0    1    0    0]\n",
      " [   0 1133    0    0    0    0    0    2    0    0]\n",
      " [   0    0 1026    1    0    0    0    5    0    0]\n",
      " [   0    1    1 1005    0    2    0    0    1    0]\n",
      " [   0    0    0    0  975    0    0    1    0    6]\n",
      " [   1    0    0    5    0  884    2    0    0    0]\n",
      " [   1    1    0    0    1    1  954    0    0    0]\n",
      " [   0    1    1    0    0    0    0 1025    0    1]\n",
      " [   1    0    2    0    0    0    0    0  971    0]\n",
      " [   0    0    0    0    3    1    0    3    0 1002]]\n",
      "Number of misclassified images in test set: 46\n",
      "Total number of images in test set: 10000\n",
      "Percentage of misclassified images: 0.46%\n"
     ]
    }
   ],
   "source": [
    "# create the model\n",
    "model = Sequential()\n",
    "model.add(Conv2D(filters = 32, kernel_size = 4, input_shape = (28, 28, 1), activation = 'relu'))\n",
    "model.add(MaxPool2D(pool_size = 2))\n",
    "model.add(Conv2D(filters = 32, kernel_size = 4, input_shape = (28, 28, 1), activation = 'relu'))\n",
    "model.add(MaxPool2D(pool_size = 2))\n",
    "model.add(Flatten())\n",
    "model.add(Dense(units = 256, activation = 'relu'))\n",
    "model.add(Dropout(0.5))\n",
    "model.add(Dense(units = 10, activation = 'softmax'))\n",
    "model.compile(optimizer = 'adam', loss = 'categorical_crossentropy', metrics = ['accuracy'])\n",
    "\n",
    "# apply the image data generator to the training set\n",
    "image_gen_train = image_gen.flow(x = X_train, y = y_train_cat, shuffle = True)\n",
    "\n",
    "# fit the model\n",
    "model.fit(x = image_gen_train, epochs = 10)\n",
    "\n",
    "# make predictions\n",
    "pred_probs = model.predict(X_test)\n",
    "pred = [np.argmax(i) for i in pred_probs]\n",
    "\n",
    "# print metrics\n",
    "print(classification_report(y_test, pred))\n",
    "print(confusion_matrix(y_test, pred))\n",
    "print('Number of misclassified images in test set:', np.sum([y_test != pred]))\n",
    "print('Total number of images in test set:', len(X_test))\n",
    "print('Percentage of misclassified images:', str(100 * np.sum([y_test != pred]) / len(X_test))+'%')"
   ]
  },
  {
   "cell_type": "markdown",
   "metadata": {},
   "source": [
    "The convolutional neural network with an image data generator works rather well! Let's see how well a convolutional neural network works without an image data generator.\n",
    "\n",
    "## Predictions without an Image Data Generator\n",
    "\n",
    "Since the MNIST dataset is already rather large and clean it is entirely possible that a convolutional neural network will perform well, and perhaps better, without a data image generator. Let's see if this is the case."
   ]
  },
  {
   "cell_type": "code",
   "execution_count": 68,
   "metadata": {
    "scrolled": true
   },
   "outputs": [
    {
     "name": "stdout",
     "output_type": "stream",
     "text": [
      "Epoch 1/1000\n",
      "1500/1500 [==============================] - 27s 18ms/step - loss: 0.4274 - accuracy: 0.8629 - val_loss: 0.0655 - val_accuracy: 0.9795\n",
      "Epoch 2/1000\n",
      "1500/1500 [==============================] - 25s 17ms/step - loss: 0.0805 - accuracy: 0.9757 - val_loss: 0.0547 - val_accuracy: 0.9818\n",
      "Epoch 3/1000\n",
      "1500/1500 [==============================] - 25s 16ms/step - loss: 0.0530 - accuracy: 0.9833 - val_loss: 0.0446 - val_accuracy: 0.9862\n",
      "Epoch 4/1000\n",
      "1500/1500 [==============================] - 25s 17ms/step - loss: 0.0417 - accuracy: 0.9873 - val_loss: 0.0367 - val_accuracy: 0.9886\n",
      "Epoch 5/1000\n",
      "1500/1500 [==============================] - 25s 16ms/step - loss: 0.0331 - accuracy: 0.9898 - val_loss: 0.0388 - val_accuracy: 0.9873\n",
      "Epoch 6/1000\n",
      "1500/1500 [==============================] - 24s 16ms/step - loss: 0.0300 - accuracy: 0.9908 - val_loss: 0.0311 - val_accuracy: 0.9902\n",
      "Epoch 7/1000\n",
      "1500/1500 [==============================] - 25s 17ms/step - loss: 0.0242 - accuracy: 0.9919 - val_loss: 0.0327 - val_accuracy: 0.9907\n",
      "Epoch 8/1000\n",
      "1500/1500 [==============================] - 25s 16ms/step - loss: 0.0185 - accuracy: 0.9932 - val_loss: 0.0371 - val_accuracy: 0.9902\n",
      "Epoch 9/1000\n",
      "1500/1500 [==============================] - 24s 16ms/step - loss: 0.0200 - accuracy: 0.9937 - val_loss: 0.0326 - val_accuracy: 0.9909\n",
      "              precision    recall  f1-score   support\n",
      "\n",
      "           0       1.00      1.00      1.00      1185\n",
      "           1       0.99      1.00      0.99      1348\n",
      "           2       0.98      0.99      0.99      1192\n",
      "           3       0.99      0.99      0.99      1226\n",
      "           4       0.99      0.99      0.99      1168\n",
      "           5       0.98      0.99      0.99      1084\n",
      "           6       0.99      1.00      0.99      1184\n",
      "           7       0.99      0.99      0.99      1253\n",
      "           8       0.99      0.98      0.99      1170\n",
      "           9       0.99      0.98      0.98      1190\n",
      "\n",
      "    accuracy                           0.99     12000\n",
      "   macro avg       0.99      0.99      0.99     12000\n",
      "weighted avg       0.99      0.99      0.99     12000\n",
      "\n",
      "[[1182    1    0    0    0    0    1    0    1    0]\n",
      " [   0 1345    0    0    0    0    0    3    0    0]\n",
      " [   0    4 1180    2    0    0    0    4    2    0]\n",
      " [   0    1    4 1210    0    7    0    2    0    2]\n",
      " [   0    2    0    0 1160    0    1    0    0    5]\n",
      " [   1    2    0    2    0 1070    4    0    3    2]\n",
      " [   0    1    0    0    1    3 1179    0    0    0]\n",
      " [   0    1   10    0    0    0    0 1242    0    0]\n",
      " [   2    3    5    3    0    3    2    1 1147    4]\n",
      " [   0    0    0    0    7    4    0    7    5 1167]]\n"
     ]
    }
   ],
   "source": [
    "# create the model\n",
    "model = Sequential()\n",
    "model.add(Conv2D(filters = 32, kernel_size = 4, input_shape = (28, 28, 1), activation = 'relu'))\n",
    "model.add(MaxPool2D(pool_size = 2))\n",
    "model.add(Conv2D(filters = 32, kernel_size = 4, input_shape = (28, 28, 1), activation = 'relu'))\n",
    "model.add(MaxPool2D(pool_size = 2))\n",
    "model.add(Flatten())\n",
    "model.add(Dense(units = 256, activation = 'relu'))\n",
    "model.add(Dropout(0.5))\n",
    "model.add(Dense(units = 10, activation = 'softmax'))\n",
    "model.compile(optimizer = 'adam', loss = 'categorical_crossentropy', metrics = ['accuracy'])\n",
    "\n",
    "# perform a train-test split\n",
    "X_trainer, X_tester, y_trainer, y_tester = train_test_split(X_train, y_train, test_size = 0.2, random_state = 18,\n",
    "                                                            stratify = y_train)\n",
    "\n",
    "# one-hot encode y_trainer and y_tester\n",
    "y_trainer_cat = to_categorical(y_trainer)\n",
    "y_tester_cat = to_categorical(y_tester)\n",
    "\n",
    "# fit the model\n",
    "stop = EarlyStopping(patience = 3, restore_best_weights = True)\n",
    "model.fit(x = X_trainer, y = y_trainer_cat, epochs = 1000, validation_data = (X_tester, y_tester_cat), callbacks = [stop])\n",
    "\n",
    "# make predictions\n",
    "pred_probs_no_gen = model.predict(X_tester)\n",
    "pred_no_gen = [np.argmax(i) for i in pred_probs_no_gen]\n",
    "\n",
    "# print metrics\n",
    "print(classification_report(y_tester, pred_no_gen))\n",
    "print(confusion_matrix(y_tester, pred_no_gen))"
   ]
  },
  {
   "cell_type": "markdown",
   "metadata": {},
   "source": [
    "How many images were misclassified in this case?"
   ]
  },
  {
   "cell_type": "code",
   "execution_count": 69,
   "metadata": {},
   "outputs": [
    {
     "name": "stdout",
     "output_type": "stream",
     "text": [
      "Number of misclassified images in validation set: 118\n",
      "Total number of images in validation set: 12000\n",
      "Percentage of misclassified images: 0.9833333333333333%\n"
     ]
    }
   ],
   "source": [
    "print('Number of misclassified images in validation set:', np.sum([y_tester != pred_no_gen]))\n",
    "print('Total number of images in validation set:', len(X_tester))\n",
    "print('Percentage of misclassified images:', str(100 * np.sum([y_tester != pred_no_gen]) / len(X_tester))+'%')"
   ]
  },
  {
   "cell_type": "markdown",
   "metadata": {},
   "source": [
    "On the validation set the convolutional neural network without an image data generator does not perform as well as the neural network with said generator. Perhaps the story is different on the test set."
   ]
  },
  {
   "cell_type": "code",
   "execution_count": 70,
   "metadata": {},
   "outputs": [
    {
     "name": "stdout",
     "output_type": "stream",
     "text": [
      "Epoch 1/6\n",
      "1875/1875 [==============================] - 32s 17ms/step - loss: 0.3893 - accuracy: 0.8777\n",
      "Epoch 2/6\n",
      "1875/1875 [==============================] - 29s 15ms/step - loss: 0.0667 - accuracy: 0.9794\n",
      "Epoch 3/6\n",
      "1875/1875 [==============================] - 29s 15ms/step - loss: 0.0493 - accuracy: 0.9848\n",
      "Epoch 4/6\n",
      "1875/1875 [==============================] - 29s 15ms/step - loss: 0.0371 - accuracy: 0.9890\n",
      "Epoch 5/6\n",
      "1875/1875 [==============================] - 29s 16ms/step - loss: 0.0315 - accuracy: 0.9902\n",
      "Epoch 6/6\n",
      "1875/1875 [==============================] - 29s 15ms/step - loss: 0.0254 - accuracy: 0.9920\n",
      "              precision    recall  f1-score   support\n",
      "\n",
      "           0       0.99      0.99      0.99       980\n",
      "           1       0.99      1.00      1.00      1135\n",
      "           2       1.00      0.99      0.99      1032\n",
      "           3       1.00      0.99      0.99      1010\n",
      "           4       0.99      0.99      0.99       982\n",
      "           5       0.99      0.99      0.99       892\n",
      "           6       0.99      0.99      0.99       958\n",
      "           7       0.99      0.99      0.99      1028\n",
      "           8       0.99      0.99      0.99       974\n",
      "           9       0.99      0.98      0.99      1009\n",
      "\n",
      "    accuracy                           0.99     10000\n",
      "   macro avg       0.99      0.99      0.99     10000\n",
      "weighted avg       0.99      0.99      0.99     10000\n",
      "\n",
      "[[ 975    0    0    0    0    0    4    1    0    0]\n",
      " [   0 1134    0    0    1    0    0    0    0    0]\n",
      " [   0    1 1025    0    1    0    0    5    0    0]\n",
      " [   0    1    1  998    0    6    0    2    2    0]\n",
      " [   0    0    0    0  977    0    3    0    1    1]\n",
      " [   1    0    0    4    0  884    1    1    0    1]\n",
      " [   2    1    0    0    1    1  951    0    2    0]\n",
      " [   0    3    3    0    0    1    0 1019    1    1]\n",
      " [   1    0    1    1    0    0    1    0  968    2]\n",
      " [   2    0    0    0    9    4    0    4    2  988]]\n",
      "Number of misclassified images in test set: 81\n",
      "Total number of images in test set: 10000\n",
      "Percentage of misclassified images: 0.81%\n"
     ]
    }
   ],
   "source": [
    "# create the model\n",
    "model = Sequential()\n",
    "model.add(Conv2D(filters = 32, kernel_size = 4, input_shape = (28, 28, 1), activation = 'relu'))\n",
    "model.add(MaxPool2D(pool_size = 2))\n",
    "model.add(Conv2D(filters = 32, kernel_size = 4, input_shape = (28, 28, 1), activation = 'relu'))\n",
    "model.add(MaxPool2D(pool_size = 2))\n",
    "model.add(Flatten())\n",
    "model.add(Dense(units = 256, activation = 'relu'))\n",
    "model.add(Dropout(0.5))\n",
    "model.add(Dense(units = 10, activation = 'softmax'))\n",
    "model.compile(optimizer = 'adam', loss = 'categorical_crossentropy', metrics = ['accuracy'])\n",
    "\n",
    "# fit the model\n",
    "model.fit(x = X_train, y = y_train_cat, epochs = 6)\n",
    "\n",
    "# make predictions\n",
    "pred_probs_no_gen = model.predict(X_test)\n",
    "pred_no_gen = [np.argmax(i) for i in pred_probs_no_gen]\n",
    "\n",
    "# print metrics\n",
    "print(classification_report(y_test, pred_no_gen))\n",
    "print(confusion_matrix(y_test, pred_no_gen))\n",
    "print('Number of misclassified images in test set:', np.sum([y_test != pred_no_gen]))\n",
    "print('Total number of images in test set:', len(X_test))\n",
    "print('Percentage of misclassified images:', str(100 * np.sum([y_test != pred_no_gen]) / len(X_test))+'%')"
   ]
  },
  {
   "cell_type": "markdown",
   "metadata": {},
   "source": [
    "While the result is quite good, the convolutional neural network with the image data generator still performed better."
   ]
  }
 ],
 "metadata": {
  "kernelspec": {
   "display_name": "Python 3",
   "language": "python",
   "name": "python3"
  },
  "language_info": {
   "codemirror_mode": {
    "name": "ipython",
    "version": 3
   },
   "file_extension": ".py",
   "mimetype": "text/x-python",
   "name": "python",
   "nbconvert_exporter": "python",
   "pygments_lexer": "ipython3",
   "version": "3.8.5"
  }
 },
 "nbformat": 4,
 "nbformat_minor": 4
}
