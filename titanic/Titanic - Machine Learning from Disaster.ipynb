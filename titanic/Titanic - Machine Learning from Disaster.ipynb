{
 "cells": [
  {
   "cell_type": "markdown",
   "metadata": {},
   "source": [
    "# Titanic - Machine Learning from Disaster"
   ]
  },
  {
   "cell_type": "markdown",
   "metadata": {},
   "source": [
    "As a first introduction to machine learning we shall explore the Titanic dataset obtained from [Kaggle](https://www.kaggle.com/c/titanic). Per the description on Kaggle, we hope to \"use machine learning to create a model that predicts which passengers survived the Titanic shipwreck\". This dataset provides a variety of features including name, age, port of embarkation, and many others so let's jump right in!\n",
    "\n",
    "## Imports\n",
    "\n",
    "We first import the standard libraries."
   ]
  },
  {
   "cell_type": "code",
   "execution_count": 470,
   "metadata": {},
   "outputs": [],
   "source": [
    "import numpy as np\n",
    "import pandas as pd\n",
    "import matplotlib.pyplot as plt\n",
    "import seaborn as sns\n",
    "sns.set_style('whitegrid') # preferred seaborn aesthetic\n",
    "%matplotlib inline"
   ]
  },
  {
   "cell_type": "markdown",
   "metadata": {},
   "source": [
    "Next we read in the training and test sets which are conveniently provided by Kaggle. The data provided contains a **PassengerId** column. It seems reasonable to utilize this as our index."
   ]
  },
  {
   "cell_type": "code",
   "execution_count": 471,
   "metadata": {},
   "outputs": [],
   "source": [
    "train=pd.read_csv('train.csv',index_col='PassengerId')\n",
    "test=pd.read_csv('test.csv',index_col='PassengerId')"
   ]
  },
  {
   "cell_type": "markdown",
   "metadata": {},
   "source": [
    "We combine these two sets to allow for simultaneous feature engineering. Note however that we will ensure that whatever feature engineering we perform is solely inspired by data from the training set."
   ]
  },
  {
   "cell_type": "code",
   "execution_count": 472,
   "metadata": {},
   "outputs": [],
   "source": [
    "df=pd.concat([train,test])"
   ]
  },
  {
   "cell_type": "markdown",
   "metadata": {},
   "source": [
    "## EDA"
   ]
  },
  {
   "cell_type": "markdown",
   "metadata": {},
   "source": [
    "Let's look at the features we have in our dataset."
   ]
  },
  {
   "cell_type": "code",
   "execution_count": 473,
   "metadata": {},
   "outputs": [
    {
     "name": "stdout",
     "output_type": "stream",
     "text": [
      "<class 'pandas.core.frame.DataFrame'>\n",
      "Int64Index: 891 entries, 1 to 891\n",
      "Data columns (total 11 columns):\n",
      " #   Column    Non-Null Count  Dtype  \n",
      "---  ------    --------------  -----  \n",
      " 0   Survived  891 non-null    int64  \n",
      " 1   Pclass    891 non-null    int64  \n",
      " 2   Name      891 non-null    object \n",
      " 3   Sex       891 non-null    object \n",
      " 4   Age       714 non-null    float64\n",
      " 5   SibSp     891 non-null    int64  \n",
      " 6   Parch     891 non-null    int64  \n",
      " 7   Ticket    891 non-null    object \n",
      " 8   Fare      891 non-null    float64\n",
      " 9   Cabin     204 non-null    object \n",
      " 10  Embarked  889 non-null    object \n",
      "dtypes: float64(2), int64(4), object(5)\n",
      "memory usage: 83.5+ KB\n"
     ]
    }
   ],
   "source": [
    "train.info()"
   ]
  },
  {
   "cell_type": "code",
   "execution_count": 474,
   "metadata": {},
   "outputs": [
    {
     "data": {
      "text/html": [
       "<div>\n",
       "<style scoped>\n",
       "    .dataframe tbody tr th:only-of-type {\n",
       "        vertical-align: middle;\n",
       "    }\n",
       "\n",
       "    .dataframe tbody tr th {\n",
       "        vertical-align: top;\n",
       "    }\n",
       "\n",
       "    .dataframe thead th {\n",
       "        text-align: right;\n",
       "    }\n",
       "</style>\n",
       "<table border=\"1\" class=\"dataframe\">\n",
       "  <thead>\n",
       "    <tr style=\"text-align: right;\">\n",
       "      <th></th>\n",
       "      <th>Survived</th>\n",
       "      <th>Pclass</th>\n",
       "      <th>Name</th>\n",
       "      <th>Sex</th>\n",
       "      <th>Age</th>\n",
       "      <th>SibSp</th>\n",
       "      <th>Parch</th>\n",
       "      <th>Ticket</th>\n",
       "      <th>Fare</th>\n",
       "      <th>Cabin</th>\n",
       "      <th>Embarked</th>\n",
       "    </tr>\n",
       "    <tr>\n",
       "      <th>PassengerId</th>\n",
       "      <th></th>\n",
       "      <th></th>\n",
       "      <th></th>\n",
       "      <th></th>\n",
       "      <th></th>\n",
       "      <th></th>\n",
       "      <th></th>\n",
       "      <th></th>\n",
       "      <th></th>\n",
       "      <th></th>\n",
       "      <th></th>\n",
       "    </tr>\n",
       "  </thead>\n",
       "  <tbody>\n",
       "    <tr>\n",
       "      <th>1</th>\n",
       "      <td>0</td>\n",
       "      <td>3</td>\n",
       "      <td>Braund, Mr. Owen Harris</td>\n",
       "      <td>male</td>\n",
       "      <td>22.0</td>\n",
       "      <td>1</td>\n",
       "      <td>0</td>\n",
       "      <td>A/5 21171</td>\n",
       "      <td>7.2500</td>\n",
       "      <td>NaN</td>\n",
       "      <td>S</td>\n",
       "    </tr>\n",
       "    <tr>\n",
       "      <th>2</th>\n",
       "      <td>1</td>\n",
       "      <td>1</td>\n",
       "      <td>Cumings, Mrs. John Bradley (Florence Briggs Th...</td>\n",
       "      <td>female</td>\n",
       "      <td>38.0</td>\n",
       "      <td>1</td>\n",
       "      <td>0</td>\n",
       "      <td>PC 17599</td>\n",
       "      <td>71.2833</td>\n",
       "      <td>C85</td>\n",
       "      <td>C</td>\n",
       "    </tr>\n",
       "    <tr>\n",
       "      <th>3</th>\n",
       "      <td>1</td>\n",
       "      <td>3</td>\n",
       "      <td>Heikkinen, Miss. Laina</td>\n",
       "      <td>female</td>\n",
       "      <td>26.0</td>\n",
       "      <td>0</td>\n",
       "      <td>0</td>\n",
       "      <td>STON/O2. 3101282</td>\n",
       "      <td>7.9250</td>\n",
       "      <td>NaN</td>\n",
       "      <td>S</td>\n",
       "    </tr>\n",
       "    <tr>\n",
       "      <th>4</th>\n",
       "      <td>1</td>\n",
       "      <td>1</td>\n",
       "      <td>Futrelle, Mrs. Jacques Heath (Lily May Peel)</td>\n",
       "      <td>female</td>\n",
       "      <td>35.0</td>\n",
       "      <td>1</td>\n",
       "      <td>0</td>\n",
       "      <td>113803</td>\n",
       "      <td>53.1000</td>\n",
       "      <td>C123</td>\n",
       "      <td>S</td>\n",
       "    </tr>\n",
       "    <tr>\n",
       "      <th>5</th>\n",
       "      <td>0</td>\n",
       "      <td>3</td>\n",
       "      <td>Allen, Mr. William Henry</td>\n",
       "      <td>male</td>\n",
       "      <td>35.0</td>\n",
       "      <td>0</td>\n",
       "      <td>0</td>\n",
       "      <td>373450</td>\n",
       "      <td>8.0500</td>\n",
       "      <td>NaN</td>\n",
       "      <td>S</td>\n",
       "    </tr>\n",
       "  </tbody>\n",
       "</table>\n",
       "</div>"
      ],
      "text/plain": [
       "             Survived  Pclass  \\\n",
       "PassengerId                     \n",
       "1                   0       3   \n",
       "2                   1       1   \n",
       "3                   1       3   \n",
       "4                   1       1   \n",
       "5                   0       3   \n",
       "\n",
       "                                                          Name     Sex   Age  \\\n",
       "PassengerId                                                                    \n",
       "1                                      Braund, Mr. Owen Harris    male  22.0   \n",
       "2            Cumings, Mrs. John Bradley (Florence Briggs Th...  female  38.0   \n",
       "3                                       Heikkinen, Miss. Laina  female  26.0   \n",
       "4                 Futrelle, Mrs. Jacques Heath (Lily May Peel)  female  35.0   \n",
       "5                                     Allen, Mr. William Henry    male  35.0   \n",
       "\n",
       "             SibSp  Parch            Ticket     Fare Cabin Embarked  \n",
       "PassengerId                                                          \n",
       "1                1      0         A/5 21171   7.2500   NaN        S  \n",
       "2                1      0          PC 17599  71.2833   C85        C  \n",
       "3                0      0  STON/O2. 3101282   7.9250   NaN        S  \n",
       "4                1      0            113803  53.1000  C123        S  \n",
       "5                0      0            373450   8.0500   NaN        S  "
      ]
     },
     "execution_count": 474,
     "metadata": {},
     "output_type": "execute_result"
    }
   ],
   "source": [
    "train.head()"
   ]
  },
  {
   "cell_type": "code",
   "execution_count": 475,
   "metadata": {},
   "outputs": [
    {
     "data": {
      "text/html": [
       "<div>\n",
       "<style scoped>\n",
       "    .dataframe tbody tr th:only-of-type {\n",
       "        vertical-align: middle;\n",
       "    }\n",
       "\n",
       "    .dataframe tbody tr th {\n",
       "        vertical-align: top;\n",
       "    }\n",
       "\n",
       "    .dataframe thead th {\n",
       "        text-align: right;\n",
       "    }\n",
       "</style>\n",
       "<table border=\"1\" class=\"dataframe\">\n",
       "  <thead>\n",
       "    <tr style=\"text-align: right;\">\n",
       "      <th></th>\n",
       "      <th>Survived</th>\n",
       "      <th>Pclass</th>\n",
       "      <th>Age</th>\n",
       "      <th>SibSp</th>\n",
       "      <th>Parch</th>\n",
       "      <th>Fare</th>\n",
       "    </tr>\n",
       "  </thead>\n",
       "  <tbody>\n",
       "    <tr>\n",
       "      <th>count</th>\n",
       "      <td>891.000000</td>\n",
       "      <td>891.000000</td>\n",
       "      <td>714.000000</td>\n",
       "      <td>891.000000</td>\n",
       "      <td>891.000000</td>\n",
       "      <td>891.000000</td>\n",
       "    </tr>\n",
       "    <tr>\n",
       "      <th>mean</th>\n",
       "      <td>0.383838</td>\n",
       "      <td>2.308642</td>\n",
       "      <td>29.699118</td>\n",
       "      <td>0.523008</td>\n",
       "      <td>0.381594</td>\n",
       "      <td>32.204208</td>\n",
       "    </tr>\n",
       "    <tr>\n",
       "      <th>std</th>\n",
       "      <td>0.486592</td>\n",
       "      <td>0.836071</td>\n",
       "      <td>14.526497</td>\n",
       "      <td>1.102743</td>\n",
       "      <td>0.806057</td>\n",
       "      <td>49.693429</td>\n",
       "    </tr>\n",
       "    <tr>\n",
       "      <th>min</th>\n",
       "      <td>0.000000</td>\n",
       "      <td>1.000000</td>\n",
       "      <td>0.420000</td>\n",
       "      <td>0.000000</td>\n",
       "      <td>0.000000</td>\n",
       "      <td>0.000000</td>\n",
       "    </tr>\n",
       "    <tr>\n",
       "      <th>25%</th>\n",
       "      <td>0.000000</td>\n",
       "      <td>2.000000</td>\n",
       "      <td>20.125000</td>\n",
       "      <td>0.000000</td>\n",
       "      <td>0.000000</td>\n",
       "      <td>7.910400</td>\n",
       "    </tr>\n",
       "    <tr>\n",
       "      <th>50%</th>\n",
       "      <td>0.000000</td>\n",
       "      <td>3.000000</td>\n",
       "      <td>28.000000</td>\n",
       "      <td>0.000000</td>\n",
       "      <td>0.000000</td>\n",
       "      <td>14.454200</td>\n",
       "    </tr>\n",
       "    <tr>\n",
       "      <th>75%</th>\n",
       "      <td>1.000000</td>\n",
       "      <td>3.000000</td>\n",
       "      <td>38.000000</td>\n",
       "      <td>1.000000</td>\n",
       "      <td>0.000000</td>\n",
       "      <td>31.000000</td>\n",
       "    </tr>\n",
       "    <tr>\n",
       "      <th>max</th>\n",
       "      <td>1.000000</td>\n",
       "      <td>3.000000</td>\n",
       "      <td>80.000000</td>\n",
       "      <td>8.000000</td>\n",
       "      <td>6.000000</td>\n",
       "      <td>512.329200</td>\n",
       "    </tr>\n",
       "  </tbody>\n",
       "</table>\n",
       "</div>"
      ],
      "text/plain": [
       "         Survived      Pclass         Age       SibSp       Parch        Fare\n",
       "count  891.000000  891.000000  714.000000  891.000000  891.000000  891.000000\n",
       "mean     0.383838    2.308642   29.699118    0.523008    0.381594   32.204208\n",
       "std      0.486592    0.836071   14.526497    1.102743    0.806057   49.693429\n",
       "min      0.000000    1.000000    0.420000    0.000000    0.000000    0.000000\n",
       "25%      0.000000    2.000000   20.125000    0.000000    0.000000    7.910400\n",
       "50%      0.000000    3.000000   28.000000    0.000000    0.000000   14.454200\n",
       "75%      1.000000    3.000000   38.000000    1.000000    0.000000   31.000000\n",
       "max      1.000000    3.000000   80.000000    8.000000    6.000000  512.329200"
      ]
     },
     "execution_count": 475,
     "metadata": {},
     "output_type": "execute_result"
    }
   ],
   "source": [
    "train.describe()"
   ]
  },
  {
   "cell_type": "markdown",
   "metadata": {},
   "source": [
    "Our target is the **Survived** column. Let's briefly describe what each of the features represent.\n",
    "\n",
    "**Pclass** - the passenger's ticket class: either first, second, or third\n",
    "\n",
    "**Name** - the passenger's name in the format (Last name), (Title) (First name) (Middle name)\n",
    "\n",
    "**Sex** - the passenger's sex\n",
    "\n",
    "**Age** - the passenger's age\n",
    "\n",
    "**SibSp** - the number of siblings and spouses the passenger has aboard the Titanic\n",
    "\n",
    "**Parch** - the number of parents and children the passenger has aboard the Titanic\n",
    "\n",
    "**Ticket** - the passenger's ticket number\n",
    "\n",
    "**Fare** - the passenger's fare\n",
    "\n",
    "**Cabin** - the passenger's cabin number\n",
    "\n",
    "**Embarked** - the passenger's port of embarkation: possible values are C, Q, and S which stand for Cherbourg, Queenstown, and Southampton, respectively\n",
    "\n",
    "Let's look at our target."
   ]
  },
  {
   "cell_type": "code",
   "execution_count": 476,
   "metadata": {},
   "outputs": [
    {
     "data": {
      "text/plain": [
       "<AxesSubplot:xlabel='Survived', ylabel='count'>"
      ]
     },
     "execution_count": 476,
     "metadata": {},
     "output_type": "execute_result"
    },
    {
     "data": {
      "image/png": "[encoded data removed]",
      "text/plain": [
       "<Figure size 432x288 with 1 Axes>"
      ]
     },
     "metadata": {
      "needs_background": "light"
     },
     "output_type": "display_data"
    }
   ],
   "source": [
    "sns.countplot(data=train,x='Survived')"
   ]
  },
  {
   "cell_type": "markdown",
   "metadata": {},
   "source": [
    "Fortunately for us it seems that the two target classes are fairly evenly distributed. Now let's see how our target ineracts with our numerical features."
   ]
  },
  {
   "cell_type": "code",
   "execution_count": 477,
   "metadata": {},
   "outputs": [
    {
     "data": {
      "text/plain": [
       "<seaborn.axisgrid.PairGrid at 0x190244347f0>"
      ]
     },
     "execution_count": 477,
     "metadata": {},
     "output_type": "execute_result"
    },
    {
     "data": {
      "image/png": "[encoded data removed]",
      "text/plain": [
       "<Figure size 947x900 with 30 Axes>"
      ]
     },
     "metadata": {
      "needs_background": "light"
     },
     "output_type": "display_data"
    }
   ],
   "source": [
    "sns.pairplot(data=train,hue='Survived')"
   ]
  },
  {
   "cell_type": "markdown",
   "metadata": {},
   "source": [
    "**Pclass** seems to be an important feature to consider. **Age** does not appear to be a significant factor, but there is a slight bump indicating that passengers below a certain age had a decent chance of survival. **SibSp** may have a similar bump. On the other hand, **Parch** does not seem to play a huge role in determining survival. It is difficult to tell from this plot alone the importance of **Fare**.\n",
    "\n",
    "Now let's take a look at the correlations in our dataset."
   ]
  },
  {
   "cell_type": "code",
   "execution_count": 478,
   "metadata": {},
   "outputs": [
    {
     "data": {
      "text/plain": [
       "<AxesSubplot:>"
      ]
     },
     "execution_count": 478,
     "metadata": {},
     "output_type": "execute_result"
    },
    {
     "data": {
      "image/png": "[encoded data removed]",
      "text/plain": [
       "<Figure size 432x288 with 2 Axes>"
      ]
     },
     "metadata": {
      "needs_background": "light"
     },
     "output_type": "display_data"
    }
   ],
   "source": [
    "sns.heatmap(data=train.corr(),annot=True,cmap='coolwarm')"
   ]
  },
  {
   "cell_type": "code",
   "execution_count": 479,
   "metadata": {},
   "outputs": [
    {
     "data": {
      "text/plain": [
       "<AxesSubplot:>"
      ]
     },
     "execution_count": 479,
     "metadata": {},
     "output_type": "execute_result"
    },
    {
     "data": {
      "image/png": "[encoded data removed]",
      "text/plain": [
       "<Figure size 432x288 with 1 Axes>"
      ]
     },
     "metadata": {
      "needs_background": "light"
     },
     "output_type": "display_data"
    }
   ],
   "source": [
    "train.corr()['Survived'].drop('Survived').sort_values().plot(kind='bar')"
   ]
  },
  {
   "cell_type": "markdown",
   "metadata": {},
   "source": [
    "As anticipated, **Pclass** correlates with survival. **Fare** as well, which was difficult to ascertain from the previous plot. Correlations between survival and **Age**, **SibSp**, and **Parch** are all rather weak.\n",
    "\n",
    "Let's take a closer look at each of our features, starting with **Pclass**."
   ]
  },
  {
   "cell_type": "code",
   "execution_count": 480,
   "metadata": {},
   "outputs": [
    {
     "data": {
      "text/plain": [
       "<AxesSubplot:xlabel='Pclass', ylabel='count'>"
      ]
     },
     "execution_count": 480,
     "metadata": {},
     "output_type": "execute_result"
    },
    {
     "data": {
      "image/png": "[encoded data removed]",
      "text/plain": [
       "<Figure size 432x288 with 1 Axes>"
      ]
     },
     "metadata": {
      "needs_background": "light"
     },
     "output_type": "display_data"
    }
   ],
   "source": [
    "sns.countplot(data=train,x='Pclass',hue='Survived')"
   ]
  },
  {
   "cell_type": "markdown",
   "metadata": {},
   "source": [
    "We can certainly see a trend here: lower class passengers had a lower chance of survival.\n",
    "\n",
    "What role did **Sex** play?"
   ]
  },
  {
   "cell_type": "code",
   "execution_count": 481,
   "metadata": {},
   "outputs": [
    {
     "data": {
      "text/plain": [
       "<AxesSubplot:xlabel='Sex', ylabel='count'>"
      ]
     },
     "execution_count": 481,
     "metadata": {},
     "output_type": "execute_result"
    },
    {
     "data": {
      "image/png": "[encoded data removed]",
      "text/plain": [
       "<Figure size 432x288 with 1 Axes>"
      ]
     },
     "metadata": {
      "needs_background": "light"
     },
     "output_type": "display_data"
    }
   ],
   "source": [
    "sns.countplot(data=train,x='Sex',hue='Survived')"
   ]
  },
  {
   "cell_type": "markdown",
   "metadata": {},
   "source": [
    "There is a substantial difference between the two sexes when it comes to survival.\n",
    "\n",
    "Let's take a look at **Age** next."
   ]
  },
  {
   "cell_type": "code",
   "execution_count": 482,
   "metadata": {},
   "outputs": [
    {
     "data": {
      "text/plain": [
       "<AxesSubplot:xlabel='Age', ylabel='Count'>"
      ]
     },
     "execution_count": 482,
     "metadata": {},
     "output_type": "execute_result"
    },
    {
     "data": {
      "image/png": "[encoded data removed]",
      "text/plain": [
       "<Figure size 432x288 with 1 Axes>"
      ]
     },
     "metadata": {
      "needs_background": "light"
     },
     "output_type": "display_data"
    }
   ],
   "source": [
    "sns.histplot(data=train,x='Age',hue='Survived',kde=True)"
   ]
  },
  {
   "cell_type": "code",
   "execution_count": 483,
   "metadata": {},
   "outputs": [
    {
     "data": {
      "text/plain": [
       "<AxesSubplot:xlabel='Survived', ylabel='Age'>"
      ]
     },
     "execution_count": 483,
     "metadata": {},
     "output_type": "execute_result"
    },
    {
     "data": {
      "image/png": "[encoded data removed]",
      "text/plain": [
       "<Figure size 432x288 with 1 Axes>"
      ]
     },
     "metadata": {
      "needs_background": "light"
     },
     "output_type": "display_data"
    }
   ],
   "source": [
    "sns.boxplot(data=train,x='Survived',y='Age')"
   ]
  },
  {
   "cell_type": "markdown",
   "metadata": {},
   "source": [
    "Based off the plots above, **Age** does not seem to be a significant indicator of survival. However, the histogram illustrates that very young passengers had a relatively high chance of survival. Combined with the **Sex** plot above it seems like the adage \"women and children first\" is quite accurate here.\n",
    "\n",
    "Let's examine **SibSp** next."
   ]
  },
  {
   "cell_type": "code",
   "execution_count": 484,
   "metadata": {},
   "outputs": [
    {
     "data": {
      "text/plain": [
       "<AxesSubplot:xlabel='SibSp', ylabel='count'>"
      ]
     },
     "execution_count": 484,
     "metadata": {},
     "output_type": "execute_result"
    },
    {
     "data": {
      "image/png": "[encoded data removed]",
      "text/plain": [
       "<Figure size 432x288 with 1 Axes>"
      ]
     },
     "metadata": {
      "needs_background": "light"
     },
     "output_type": "display_data"
    }
   ],
   "source": [
    "sns.countplot(data=train,x='SibSp',hue='Survived')"
   ]
  },
  {
   "cell_type": "markdown",
   "metadata": {},
   "source": [
    "There is not much of a general trend here. Curiously, passengers with **SibSp** values of 1 or 2 generally fare better.\n",
    "\n",
    "Next up is **Parch**."
   ]
  },
  {
   "cell_type": "code",
   "execution_count": 485,
   "metadata": {},
   "outputs": [
    {
     "data": {
      "text/plain": [
       "<matplotlib.legend.Legend at 0x1903087c2e0>"
      ]
     },
     "execution_count": 485,
     "metadata": {},
     "output_type": "execute_result"
    },
    {
     "data": {
      "image/png": "[encoded data removed]",
      "text/plain": [
       "<Figure size 432x288 with 1 Axes>"
      ]
     },
     "metadata": {
      "needs_background": "light"
     },
     "output_type": "display_data"
    }
   ],
   "source": [
    "sns.countplot(data=train,x='Parch',hue='Survived')\n",
    "plt.legend(bbox_to_anchor=(0.7,1))"
   ]
  },
  {
   "cell_type": "markdown",
   "metadata": {},
   "source": [
    "**Parch** exhibits behaviour similar to **SibSp** in that passengers with **Parch** values of 1 or 2 were more likely to survive than their fellow passengers.\n",
    "\n",
    "We take a look at **Fare** next."
   ]
  },
  {
   "cell_type": "code",
   "execution_count": 486,
   "metadata": {},
   "outputs": [
    {
     "data": {
      "text/plain": [
       "<AxesSubplot:xlabel='Fare', ylabel='Count'>"
      ]
     },
     "execution_count": 486,
     "metadata": {},
     "output_type": "execute_result"
    },
    {
     "data": {
      "image/png": "[encoded data removed]",
      "text/plain": [
       "<Figure size 432x288 with 1 Axes>"
      ]
     },
     "metadata": {
      "needs_background": "light"
     },
     "output_type": "display_data"
    }
   ],
   "source": [
    "sns.histplot(data=train,x='Fare',hue='Survived',kde=True,bins=20)"
   ]
  },
  {
   "cell_type": "markdown",
   "metadata": {},
   "source": [
    "**Fare** is heavily skewed to the right. Perhaps it would benefit from a log1p transformation."
   ]
  },
  {
   "cell_type": "code",
   "execution_count": 487,
   "metadata": {},
   "outputs": [
    {
     "data": {
      "text/plain": [
       "<AxesSubplot:xlabel='Fare', ylabel='Count'>"
      ]
     },
     "execution_count": 487,
     "metadata": {},
     "output_type": "execute_result"
    },
    {
     "data": {
      "image/png": "[encoded data removed]",
      "text/plain": [
       "<Figure size 432x288 with 1 Axes>"
      ]
     },
     "metadata": {
      "needs_background": "light"
     },
     "output_type": "display_data"
    }
   ],
   "source": [
    "sns.histplot(data=train,x=train['Fare'].apply(np.log1p),hue='Survived',kde=True)"
   ]
  },
  {
   "cell_type": "code",
   "execution_count": 488,
   "metadata": {},
   "outputs": [],
   "source": [
    "from scipy import stats"
   ]
  },
  {
   "cell_type": "code",
   "execution_count": 489,
   "metadata": {},
   "outputs": [
    {
     "name": "stdout",
     "output_type": "stream",
     "text": [
      "Skewness of original fare: 4.7792532923723545\n",
      "Skewness of transformed fare: 0.39426283638993376\n"
     ]
    }
   ],
   "source": [
    "print('Skewness of original fare:',stats.skew(train['Fare'].dropna()))\n",
    "print('Skewness of transformed fare:',stats.skew(train['Fare'].dropna().apply(np.log1p)))"
   ]
  },
  {
   "cell_type": "markdown",
   "metadata": {},
   "source": [
    "The data after the transformation is far less skewed. Let's go ahead and replace **Fare** with the log-transformed fare data."
   ]
  },
  {
   "cell_type": "code",
   "execution_count": 490,
   "metadata": {},
   "outputs": [],
   "source": [
    "df['LogFare']=df['Fare'].apply(np.log1p)\n",
    "df.drop('Fare',axis=1,inplace=True)"
   ]
  },
  {
   "cell_type": "markdown",
   "metadata": {},
   "source": [
    "Lastly we take a closer look at **Embarked**."
   ]
  },
  {
   "cell_type": "code",
   "execution_count": 491,
   "metadata": {},
   "outputs": [
    {
     "data": {
      "text/plain": [
       "<AxesSubplot:xlabel='Embarked', ylabel='count'>"
      ]
     },
     "execution_count": 491,
     "metadata": {},
     "output_type": "execute_result"
    },
    {
     "data": {
      "image/png": "[encoded data removed]",
      "text/plain": [
       "<Figure size 432x288 with 1 Axes>"
      ]
     },
     "metadata": {
      "needs_background": "light"
     },
     "output_type": "display_data"
    }
   ],
   "source": [
    "sns.countplot(data=train,x='Embarked',hue='Survived')"
   ]
  },
  {
   "cell_type": "markdown",
   "metadata": {},
   "source": [
    "Passengers who embarked from Cherbourg had a better chance of surviving compared to those who embarked from Southampton or Queenstown."
   ]
  },
  {
   "cell_type": "markdown",
   "metadata": {},
   "source": [
    "## Feature Engineering"
   ]
  },
  {
   "cell_type": "markdown",
   "metadata": {},
   "source": [
    "Before we engineer some features, let's get a sense of the amount data we are missing per feature."
   ]
  },
  {
   "cell_type": "code",
   "execution_count": 492,
   "metadata": {},
   "outputs": [
    {
     "data": {
      "text/plain": [
       "Pclass       0.000000\n",
       "Name         0.000000\n",
       "Sex          0.000000\n",
       "Age         20.091673\n",
       "SibSp        0.000000\n",
       "Parch        0.000000\n",
       "Ticket       0.000000\n",
       "Cabin       77.463713\n",
       "Embarked     0.152788\n",
       "LogFare      0.076394\n",
       "dtype: float64"
      ]
     },
     "execution_count": 492,
     "metadata": {},
     "output_type": "execute_result"
    }
   ],
   "source": [
    "100*df.drop('Survived',axis=1).isna().sum()/len(df) # returns the percentage of data missing for each feature"
   ]
  },
  {
   "cell_type": "markdown",
   "metadata": {},
   "source": [
    "**Age** and **Cabin** are missing a substantial amount of information. We will deal with those two features later.\n",
    "\n",
    "### Sex\n",
    "\n",
    "For now let's one-hot encode **Sex**."
   ]
  },
  {
   "cell_type": "code",
   "execution_count": 493,
   "metadata": {},
   "outputs": [],
   "source": [
    "df=pd.get_dummies(data=df,columns=['Sex'],drop_first=True)"
   ]
  },
  {
   "cell_type": "markdown",
   "metadata": {},
   "source": [
    "### Embarked\n",
    "\n",
    "We would like to one-hot encode **Embarked** as well but it seems to be missing some values. Let's take a look at the the passengers with missing **Embarked** entries."
   ]
  },
  {
   "cell_type": "code",
   "execution_count": 494,
   "metadata": {},
   "outputs": [
    {
     "data": {
      "text/html": [
       "<div>\n",
       "<style scoped>\n",
       "    .dataframe tbody tr th:only-of-type {\n",
       "        vertical-align: middle;\n",
       "    }\n",
       "\n",
       "    .dataframe tbody tr th {\n",
       "        vertical-align: top;\n",
       "    }\n",
       "\n",
       "    .dataframe thead th {\n",
       "        text-align: right;\n",
       "    }\n",
       "</style>\n",
       "<table border=\"1\" class=\"dataframe\">\n",
       "  <thead>\n",
       "    <tr style=\"text-align: right;\">\n",
       "      <th></th>\n",
       "      <th>Survived</th>\n",
       "      <th>Pclass</th>\n",
       "      <th>Name</th>\n",
       "      <th>Age</th>\n",
       "      <th>SibSp</th>\n",
       "      <th>Parch</th>\n",
       "      <th>Ticket</th>\n",
       "      <th>Cabin</th>\n",
       "      <th>Embarked</th>\n",
       "      <th>LogFare</th>\n",
       "      <th>Sex_male</th>\n",
       "    </tr>\n",
       "    <tr>\n",
       "      <th>PassengerId</th>\n",
       "      <th></th>\n",
       "      <th></th>\n",
       "      <th></th>\n",
       "      <th></th>\n",
       "      <th></th>\n",
       "      <th></th>\n",
       "      <th></th>\n",
       "      <th></th>\n",
       "      <th></th>\n",
       "      <th></th>\n",
       "      <th></th>\n",
       "    </tr>\n",
       "  </thead>\n",
       "  <tbody>\n",
       "    <tr>\n",
       "      <th>62</th>\n",
       "      <td>1.0</td>\n",
       "      <td>1</td>\n",
       "      <td>Icard, Miss. Amelie</td>\n",
       "      <td>38.0</td>\n",
       "      <td>0</td>\n",
       "      <td>0</td>\n",
       "      <td>113572</td>\n",
       "      <td>B28</td>\n",
       "      <td>NaN</td>\n",
       "      <td>4.394449</td>\n",
       "      <td>0</td>\n",
       "    </tr>\n",
       "    <tr>\n",
       "      <th>830</th>\n",
       "      <td>1.0</td>\n",
       "      <td>1</td>\n",
       "      <td>Stone, Mrs. George Nelson (Martha Evelyn)</td>\n",
       "      <td>62.0</td>\n",
       "      <td>0</td>\n",
       "      <td>0</td>\n",
       "      <td>113572</td>\n",
       "      <td>B28</td>\n",
       "      <td>NaN</td>\n",
       "      <td>4.394449</td>\n",
       "      <td>0</td>\n",
       "    </tr>\n",
       "  </tbody>\n",
       "</table>\n",
       "</div>"
      ],
      "text/plain": [
       "             Survived  Pclass                                       Name  \\\n",
       "PassengerId                                                                \n",
       "62                1.0       1                        Icard, Miss. Amelie   \n",
       "830               1.0       1  Stone, Mrs. George Nelson (Martha Evelyn)   \n",
       "\n",
       "              Age  SibSp  Parch  Ticket Cabin Embarked   LogFare  Sex_male  \n",
       "PassengerId                                                                 \n",
       "62           38.0      0      0  113572   B28      NaN  4.394449         0  \n",
       "830          62.0      0      0  113572   B28      NaN  4.394449         0  "
      ]
     },
     "execution_count": 494,
     "metadata": {},
     "output_type": "execute_result"
    }
   ],
   "source": [
    "df[df['Embarked'].isna()]"
   ]
  },
  {
   "cell_type": "markdown",
   "metadata": {},
   "source": [
    "These two passengers shared a ticket and cabin and so they most likely embarked from the same port. Let's try to estimate from which port they embarked."
   ]
  },
  {
   "cell_type": "code",
   "execution_count": 495,
   "metadata": {},
   "outputs": [
    {
     "data": {
      "text/plain": [
       "<AxesSubplot:xlabel='Pclass', ylabel='count'>"
      ]
     },
     "execution_count": 495,
     "metadata": {},
     "output_type": "execute_result"
    },
    {
     "data": {
      "image/png": "[encoded data removed]",
      "text/plain": [
       "<Figure size 432x288 with 1 Axes>"
      ]
     },
     "metadata": {
      "needs_background": "light"
     },
     "output_type": "display_data"
    }
   ],
   "source": [
    "sns.countplot(data=train,x='Pclass',hue='Embarked')"
   ]
  },
  {
   "cell_type": "code",
   "execution_count": 496,
   "metadata": {},
   "outputs": [
    {
     "data": {
      "text/plain": [
       "<AxesSubplot:xlabel='Sex', ylabel='count'>"
      ]
     },
     "execution_count": 496,
     "metadata": {},
     "output_type": "execute_result"
    },
    {
     "data": {
      "image/png": "[encoded data removed]",
      "text/plain": [
       "<Figure size 432x288 with 1 Axes>"
      ]
     },
     "metadata": {
      "needs_background": "light"
     },
     "output_type": "display_data"
    }
   ],
   "source": [
    "sns.countplot(data=train,x='Sex',hue='Embarked')"
   ]
  },
  {
   "cell_type": "markdown",
   "metadata": {},
   "source": [
    "Based off the above plots and the fact that these passengers were first class female passengers we will go ahead and impute the missing **Embarked** values as S."
   ]
  },
  {
   "cell_type": "code",
   "execution_count": 497,
   "metadata": {},
   "outputs": [],
   "source": [
    "df.loc[df['Embarked'].isna(),'Embarked']='S'"
   ]
  },
  {
   "cell_type": "markdown",
   "metadata": {},
   "source": [
    "Now we can one-hot encode **Embarked**."
   ]
  },
  {
   "cell_type": "code",
   "execution_count": 498,
   "metadata": {},
   "outputs": [],
   "source": [
    "df=pd.get_dummies(data=df,columns=['Embarked'])"
   ]
  },
  {
   "cell_type": "markdown",
   "metadata": {},
   "source": [
    "### Name\n",
    "\n",
    "Let's feature engineer something useful from **Name**."
   ]
  },
  {
   "cell_type": "code",
   "execution_count": 499,
   "metadata": {},
   "outputs": [
    {
     "data": {
      "text/plain": [
       "PassengerId\n",
       "1                              Braund, Mr. Owen Harris\n",
       "2    Cumings, Mrs. John Bradley (Florence Briggs Th...\n",
       "3                               Heikkinen, Miss. Laina\n",
       "4         Futrelle, Mrs. Jacques Heath (Lily May Peel)\n",
       "5                             Allen, Mr. William Henry\n",
       "Name: Name, dtype: object"
      ]
     },
     "execution_count": 499,
     "metadata": {},
     "output_type": "execute_result"
    }
   ],
   "source": [
    "train['Name'].head()"
   ]
  },
  {
   "cell_type": "markdown",
   "metadata": {},
   "source": [
    "**Name** contains titles for the passengers. Let's extract this information as a new feature."
   ]
  },
  {
   "cell_type": "code",
   "execution_count": 500,
   "metadata": {},
   "outputs": [],
   "source": [
    "import re\n",
    "df['Title']=df['Name'].apply(lambda x:re.findall('\\w+,\\s([^\\.]+)\\.',x)[0])"
   ]
  },
  {
   "cell_type": "markdown",
   "metadata": {},
   "source": [
    "How many titles are there?"
   ]
  },
  {
   "cell_type": "code",
   "execution_count": 501,
   "metadata": {},
   "outputs": [
    {
     "data": {
      "text/plain": [
       "18"
      ]
     },
     "execution_count": 501,
     "metadata": {},
     "output_type": "execute_result"
    }
   ],
   "source": [
    "df['Title'].nunique()"
   ]
  },
  {
   "cell_type": "code",
   "execution_count": 502,
   "metadata": {},
   "outputs": [
    {
     "data": {
      "text/plain": [
       "Mr              757\n",
       "Miss            260\n",
       "Mrs             197\n",
       "Master           61\n",
       "Rev               8\n",
       "Dr                8\n",
       "Col               4\n",
       "Mlle              2\n",
       "Major             2\n",
       "Ms                2\n",
       "Jonkheer          1\n",
       "the Countess      1\n",
       "Mme               1\n",
       "Capt              1\n",
       "Sir               1\n",
       "Don               1\n",
       "Dona              1\n",
       "Lady              1\n",
       "Name: Title, dtype: int64"
      ]
     },
     "execution_count": 502,
     "metadata": {},
     "output_type": "execute_result"
    }
   ],
   "source": [
    "df['Title'].value_counts()"
   ]
  },
  {
   "cell_type": "markdown",
   "metadata": {},
   "source": [
    "Mr, Miss, Mrs, and Master occur frequently enough to warrant keeping. Let's try to convert the other titles into one of these four.\n",
    "\n",
    "Firstly, we can replace both Ms and Mlle with Miss. Similarly we can replace Mme with Mrs."
   ]
  },
  {
   "cell_type": "code",
   "execution_count": 503,
   "metadata": {},
   "outputs": [],
   "source": [
    "df['Title'].replace(('Ms','Mlle'),'Miss',inplace=True)\n",
    "df['Title'].replace('Mme','Mrs',inplace=True)"
   ]
  },
  {
   "cell_type": "markdown",
   "metadata": {},
   "source": [
    "How about the remaining miscellaneous titles? First note that any male passenger is going to be retitled as either Mr or Master. What is the difference between these two titles?"
   ]
  },
  {
   "cell_type": "code",
   "execution_count": 504,
   "metadata": {},
   "outputs": [
    {
     "data": {
      "text/html": [
       "<div>\n",
       "<style scoped>\n",
       "    .dataframe tbody tr th:only-of-type {\n",
       "        vertical-align: middle;\n",
       "    }\n",
       "\n",
       "    .dataframe tbody tr th {\n",
       "        vertical-align: top;\n",
       "    }\n",
       "\n",
       "    .dataframe thead th {\n",
       "        text-align: right;\n",
       "    }\n",
       "</style>\n",
       "<table border=\"1\" class=\"dataframe\">\n",
       "  <thead>\n",
       "    <tr style=\"text-align: right;\">\n",
       "      <th></th>\n",
       "      <th>Survived</th>\n",
       "      <th>Pclass</th>\n",
       "      <th>Age</th>\n",
       "      <th>SibSp</th>\n",
       "      <th>Parch</th>\n",
       "      <th>LogFare</th>\n",
       "      <th>Sex_male</th>\n",
       "      <th>Embarked_C</th>\n",
       "      <th>Embarked_Q</th>\n",
       "      <th>Embarked_S</th>\n",
       "    </tr>\n",
       "  </thead>\n",
       "  <tbody>\n",
       "    <tr>\n",
       "      <th>count</th>\n",
       "      <td>517.000000</td>\n",
       "      <td>517.000000</td>\n",
       "      <td>398.000000</td>\n",
       "      <td>517.000000</td>\n",
       "      <td>517.000000</td>\n",
       "      <td>517.000000</td>\n",
       "      <td>517.0</td>\n",
       "      <td>517.000000</td>\n",
       "      <td>517.000000</td>\n",
       "      <td>517.000000</td>\n",
       "    </tr>\n",
       "    <tr>\n",
       "      <th>mean</th>\n",
       "      <td>0.156673</td>\n",
       "      <td>2.410058</td>\n",
       "      <td>32.368090</td>\n",
       "      <td>0.288201</td>\n",
       "      <td>0.152805</td>\n",
       "      <td>2.709943</td>\n",
       "      <td>1.0</td>\n",
       "      <td>0.164410</td>\n",
       "      <td>0.067698</td>\n",
       "      <td>0.767892</td>\n",
       "    </tr>\n",
       "    <tr>\n",
       "      <th>std</th>\n",
       "      <td>0.363844</td>\n",
       "      <td>0.810622</td>\n",
       "      <td>12.708793</td>\n",
       "      <td>0.821298</td>\n",
       "      <td>0.533615</td>\n",
       "      <td>0.925754</td>\n",
       "      <td>0.0</td>\n",
       "      <td>0.371006</td>\n",
       "      <td>0.251471</td>\n",
       "      <td>0.422587</td>\n",
       "    </tr>\n",
       "    <tr>\n",
       "      <th>min</th>\n",
       "      <td>0.000000</td>\n",
       "      <td>1.000000</td>\n",
       "      <td>11.000000</td>\n",
       "      <td>0.000000</td>\n",
       "      <td>0.000000</td>\n",
       "      <td>0.000000</td>\n",
       "      <td>1.0</td>\n",
       "      <td>0.000000</td>\n",
       "      <td>0.000000</td>\n",
       "      <td>0.000000</td>\n",
       "    </tr>\n",
       "    <tr>\n",
       "      <th>25%</th>\n",
       "      <td>0.000000</td>\n",
       "      <td>2.000000</td>\n",
       "      <td>23.000000</td>\n",
       "      <td>0.000000</td>\n",
       "      <td>0.000000</td>\n",
       "      <td>2.174752</td>\n",
       "      <td>1.0</td>\n",
       "      <td>0.000000</td>\n",
       "      <td>0.000000</td>\n",
       "      <td>1.000000</td>\n",
       "    </tr>\n",
       "    <tr>\n",
       "      <th>50%</th>\n",
       "      <td>0.000000</td>\n",
       "      <td>3.000000</td>\n",
       "      <td>30.000000</td>\n",
       "      <td>0.000000</td>\n",
       "      <td>0.000000</td>\n",
       "      <td>2.336987</td>\n",
       "      <td>1.0</td>\n",
       "      <td>0.000000</td>\n",
       "      <td>0.000000</td>\n",
       "      <td>1.000000</td>\n",
       "    </tr>\n",
       "    <tr>\n",
       "      <th>75%</th>\n",
       "      <td>0.000000</td>\n",
       "      <td>3.000000</td>\n",
       "      <td>39.000000</td>\n",
       "      <td>0.000000</td>\n",
       "      <td>0.000000</td>\n",
       "      <td>3.295837</td>\n",
       "      <td>1.0</td>\n",
       "      <td>0.000000</td>\n",
       "      <td>0.000000</td>\n",
       "      <td>1.000000</td>\n",
       "    </tr>\n",
       "    <tr>\n",
       "      <th>max</th>\n",
       "      <td>1.000000</td>\n",
       "      <td>3.000000</td>\n",
       "      <td>80.000000</td>\n",
       "      <td>8.000000</td>\n",
       "      <td>5.000000</td>\n",
       "      <td>6.240917</td>\n",
       "      <td>1.0</td>\n",
       "      <td>1.000000</td>\n",
       "      <td>1.000000</td>\n",
       "      <td>1.000000</td>\n",
       "    </tr>\n",
       "  </tbody>\n",
       "</table>\n",
       "</div>"
      ],
      "text/plain": [
       "         Survived      Pclass         Age       SibSp       Parch     LogFare  \\\n",
       "count  517.000000  517.000000  398.000000  517.000000  517.000000  517.000000   \n",
       "mean     0.156673    2.410058   32.368090    0.288201    0.152805    2.709943   \n",
       "std      0.363844    0.810622   12.708793    0.821298    0.533615    0.925754   \n",
       "min      0.000000    1.000000   11.000000    0.000000    0.000000    0.000000   \n",
       "25%      0.000000    2.000000   23.000000    0.000000    0.000000    2.174752   \n",
       "50%      0.000000    3.000000   30.000000    0.000000    0.000000    2.336987   \n",
       "75%      0.000000    3.000000   39.000000    0.000000    0.000000    3.295837   \n",
       "max      1.000000    3.000000   80.000000    8.000000    5.000000    6.240917   \n",
       "\n",
       "       Sex_male  Embarked_C  Embarked_Q  Embarked_S  \n",
       "count     517.0  517.000000  517.000000  517.000000  \n",
       "mean        1.0    0.164410    0.067698    0.767892  \n",
       "std         0.0    0.371006    0.251471    0.422587  \n",
       "min         1.0    0.000000    0.000000    0.000000  \n",
       "25%         1.0    0.000000    0.000000    1.000000  \n",
       "50%         1.0    0.000000    0.000000    1.000000  \n",
       "75%         1.0    0.000000    0.000000    1.000000  \n",
       "max         1.0    1.000000    1.000000    1.000000  "
      ]
     },
     "execution_count": 504,
     "metadata": {},
     "output_type": "execute_result"
    }
   ],
   "source": [
    "df[(df['Survived'].isna()==False) & (df['Title']=='Mr')].describe()"
   ]
  },
  {
   "cell_type": "code",
   "execution_count": 505,
   "metadata": {},
   "outputs": [
    {
     "data": {
      "text/html": [
       "<div>\n",
       "<style scoped>\n",
       "    .dataframe tbody tr th:only-of-type {\n",
       "        vertical-align: middle;\n",
       "    }\n",
       "\n",
       "    .dataframe tbody tr th {\n",
       "        vertical-align: top;\n",
       "    }\n",
       "\n",
       "    .dataframe thead th {\n",
       "        text-align: right;\n",
       "    }\n",
       "</style>\n",
       "<table border=\"1\" class=\"dataframe\">\n",
       "  <thead>\n",
       "    <tr style=\"text-align: right;\">\n",
       "      <th></th>\n",
       "      <th>Survived</th>\n",
       "      <th>Pclass</th>\n",
       "      <th>Age</th>\n",
       "      <th>SibSp</th>\n",
       "      <th>Parch</th>\n",
       "      <th>LogFare</th>\n",
       "      <th>Sex_male</th>\n",
       "      <th>Embarked_C</th>\n",
       "      <th>Embarked_Q</th>\n",
       "      <th>Embarked_S</th>\n",
       "    </tr>\n",
       "  </thead>\n",
       "  <tbody>\n",
       "    <tr>\n",
       "      <th>count</th>\n",
       "      <td>40.000000</td>\n",
       "      <td>40.000000</td>\n",
       "      <td>36.000000</td>\n",
       "      <td>40.000000</td>\n",
       "      <td>40.000000</td>\n",
       "      <td>40.000000</td>\n",
       "      <td>40.0</td>\n",
       "      <td>40.000000</td>\n",
       "      <td>40.000000</td>\n",
       "      <td>40.000000</td>\n",
       "    </tr>\n",
       "    <tr>\n",
       "      <th>mean</th>\n",
       "      <td>0.575000</td>\n",
       "      <td>2.625000</td>\n",
       "      <td>4.574167</td>\n",
       "      <td>2.300000</td>\n",
       "      <td>1.375000</td>\n",
       "      <td>3.381361</td>\n",
       "      <td>1.0</td>\n",
       "      <td>0.125000</td>\n",
       "      <td>0.100000</td>\n",
       "      <td>0.775000</td>\n",
       "    </tr>\n",
       "    <tr>\n",
       "      <th>std</th>\n",
       "      <td>0.500641</td>\n",
       "      <td>0.627878</td>\n",
       "      <td>3.619872</td>\n",
       "      <td>1.910833</td>\n",
       "      <td>0.540062</td>\n",
       "      <td>0.590817</td>\n",
       "      <td>0.0</td>\n",
       "      <td>0.334932</td>\n",
       "      <td>0.303822</td>\n",
       "      <td>0.422902</td>\n",
       "    </tr>\n",
       "    <tr>\n",
       "      <th>min</th>\n",
       "      <td>0.000000</td>\n",
       "      <td>1.000000</td>\n",
       "      <td>0.420000</td>\n",
       "      <td>0.000000</td>\n",
       "      <td>0.000000</td>\n",
       "      <td>2.253048</td>\n",
       "      <td>1.0</td>\n",
       "      <td>0.000000</td>\n",
       "      <td>0.000000</td>\n",
       "      <td>0.000000</td>\n",
       "    </tr>\n",
       "    <tr>\n",
       "      <th>25%</th>\n",
       "      <td>0.000000</td>\n",
       "      <td>2.000000</td>\n",
       "      <td>1.000000</td>\n",
       "      <td>1.000000</td>\n",
       "      <td>1.000000</td>\n",
       "      <td>2.983153</td>\n",
       "      <td>1.0</td>\n",
       "      <td>0.000000</td>\n",
       "      <td>0.000000</td>\n",
       "      <td>1.000000</td>\n",
       "    </tr>\n",
       "    <tr>\n",
       "      <th>50%</th>\n",
       "      <td>1.000000</td>\n",
       "      <td>3.000000</td>\n",
       "      <td>3.500000</td>\n",
       "      <td>1.000000</td>\n",
       "      <td>1.000000</td>\n",
       "      <td>3.403276</td>\n",
       "      <td>1.0</td>\n",
       "      <td>0.000000</td>\n",
       "      <td>0.000000</td>\n",
       "      <td>1.000000</td>\n",
       "    </tr>\n",
       "    <tr>\n",
       "      <th>75%</th>\n",
       "      <td>1.000000</td>\n",
       "      <td>3.000000</td>\n",
       "      <td>8.000000</td>\n",
       "      <td>4.000000</td>\n",
       "      <td>2.000000</td>\n",
       "      <td>3.693140</td>\n",
       "      <td>1.0</td>\n",
       "      <td>0.000000</td>\n",
       "      <td>0.000000</td>\n",
       "      <td>1.000000</td>\n",
       "    </tr>\n",
       "    <tr>\n",
       "      <th>max</th>\n",
       "      <td>1.000000</td>\n",
       "      <td>3.000000</td>\n",
       "      <td>12.000000</td>\n",
       "      <td>8.000000</td>\n",
       "      <td>2.000000</td>\n",
       "      <td>5.027492</td>\n",
       "      <td>1.0</td>\n",
       "      <td>1.000000</td>\n",
       "      <td>1.000000</td>\n",
       "      <td>1.000000</td>\n",
       "    </tr>\n",
       "  </tbody>\n",
       "</table>\n",
       "</div>"
      ],
      "text/plain": [
       "        Survived     Pclass        Age      SibSp      Parch    LogFare  \\\n",
       "count  40.000000  40.000000  36.000000  40.000000  40.000000  40.000000   \n",
       "mean    0.575000   2.625000   4.574167   2.300000   1.375000   3.381361   \n",
       "std     0.500641   0.627878   3.619872   1.910833   0.540062   0.590817   \n",
       "min     0.000000   1.000000   0.420000   0.000000   0.000000   2.253048   \n",
       "25%     0.000000   2.000000   1.000000   1.000000   1.000000   2.983153   \n",
       "50%     1.000000   3.000000   3.500000   1.000000   1.000000   3.403276   \n",
       "75%     1.000000   3.000000   8.000000   4.000000   2.000000   3.693140   \n",
       "max     1.000000   3.000000  12.000000   8.000000   2.000000   5.027492   \n",
       "\n",
       "       Sex_male  Embarked_C  Embarked_Q  Embarked_S  \n",
       "count      40.0   40.000000   40.000000   40.000000  \n",
       "mean        1.0    0.125000    0.100000    0.775000  \n",
       "std         0.0    0.334932    0.303822    0.422902  \n",
       "min         1.0    0.000000    0.000000    0.000000  \n",
       "25%         1.0    0.000000    0.000000    1.000000  \n",
       "50%         1.0    0.000000    0.000000    1.000000  \n",
       "75%         1.0    0.000000    0.000000    1.000000  \n",
       "max         1.0    1.000000    1.000000    1.000000  "
      ]
     },
     "execution_count": 505,
     "metadata": {},
     "output_type": "execute_result"
    }
   ],
   "source": [
    "df[(df['Survived'].isna()==False) & (df['Title']=='Master')].describe()"
   ]
  },
  {
   "cell_type": "markdown",
   "metadata": {},
   "source": [
    "Notice that everyone titled Master is a male aged 12 or under. We can use this to retitle any male passenger not already titled Mr or Master."
   ]
  },
  {
   "cell_type": "code",
   "execution_count": 506,
   "metadata": {},
   "outputs": [
    {
     "data": {
      "text/plain": [
       "23.0"
      ]
     },
     "execution_count": 506,
     "metadata": {},
     "output_type": "execute_result"
    }
   ],
   "source": [
    "titles=['Mr','Miss','Mrs','Master']\n",
    "df[(df['Sex_male']==1) & (~df['Title'].isin(titles))]['Age'].min()"
   ]
  },
  {
   "cell_type": "markdown",
   "metadata": {},
   "source": [
    "The minimum age of the male passengers not titled Mr or Master is 23. Consequently it is reasonable to retitle them all as Mr."
   ]
  },
  {
   "cell_type": "code",
   "execution_count": 507,
   "metadata": {},
   "outputs": [],
   "source": [
    "df.loc[((df['Sex_male']==1) & (~df['Title'].isin(titles))),'Title']='Mr'"
   ]
  },
  {
   "cell_type": "markdown",
   "metadata": {},
   "source": [
    "How about the remaining titles?"
   ]
  },
  {
   "cell_type": "code",
   "execution_count": 508,
   "metadata": {},
   "outputs": [
    {
     "data": {
      "text/html": [
       "<div>\n",
       "<style scoped>\n",
       "    .dataframe tbody tr th:only-of-type {\n",
       "        vertical-align: middle;\n",
       "    }\n",
       "\n",
       "    .dataframe tbody tr th {\n",
       "        vertical-align: top;\n",
       "    }\n",
       "\n",
       "    .dataframe thead th {\n",
       "        text-align: right;\n",
       "    }\n",
       "</style>\n",
       "<table border=\"1\" class=\"dataframe\">\n",
       "  <thead>\n",
       "    <tr style=\"text-align: right;\">\n",
       "      <th></th>\n",
       "      <th>Survived</th>\n",
       "      <th>Pclass</th>\n",
       "      <th>Name</th>\n",
       "      <th>Age</th>\n",
       "      <th>SibSp</th>\n",
       "      <th>Parch</th>\n",
       "      <th>Ticket</th>\n",
       "      <th>Cabin</th>\n",
       "      <th>LogFare</th>\n",
       "      <th>Sex_male</th>\n",
       "      <th>Embarked_C</th>\n",
       "      <th>Embarked_Q</th>\n",
       "      <th>Embarked_S</th>\n",
       "      <th>Title</th>\n",
       "    </tr>\n",
       "    <tr>\n",
       "      <th>PassengerId</th>\n",
       "      <th></th>\n",
       "      <th></th>\n",
       "      <th></th>\n",
       "      <th></th>\n",
       "      <th></th>\n",
       "      <th></th>\n",
       "      <th></th>\n",
       "      <th></th>\n",
       "      <th></th>\n",
       "      <th></th>\n",
       "      <th></th>\n",
       "      <th></th>\n",
       "      <th></th>\n",
       "      <th></th>\n",
       "    </tr>\n",
       "  </thead>\n",
       "  <tbody>\n",
       "    <tr>\n",
       "      <th>557</th>\n",
       "      <td>1.0</td>\n",
       "      <td>1</td>\n",
       "      <td>Duff Gordon, Lady. (Lucille Christiana Sutherl...</td>\n",
       "      <td>48.0</td>\n",
       "      <td>1</td>\n",
       "      <td>0</td>\n",
       "      <td>11755</td>\n",
       "      <td>A16</td>\n",
       "      <td>3.703768</td>\n",
       "      <td>0</td>\n",
       "      <td>1</td>\n",
       "      <td>0</td>\n",
       "      <td>0</td>\n",
       "      <td>Lady</td>\n",
       "    </tr>\n",
       "    <tr>\n",
       "      <th>760</th>\n",
       "      <td>1.0</td>\n",
       "      <td>1</td>\n",
       "      <td>Rothes, the Countess. of (Lucy Noel Martha Dye...</td>\n",
       "      <td>33.0</td>\n",
       "      <td>0</td>\n",
       "      <td>0</td>\n",
       "      <td>110152</td>\n",
       "      <td>B77</td>\n",
       "      <td>4.471639</td>\n",
       "      <td>0</td>\n",
       "      <td>0</td>\n",
       "      <td>0</td>\n",
       "      <td>1</td>\n",
       "      <td>the Countess</td>\n",
       "    </tr>\n",
       "    <tr>\n",
       "      <th>797</th>\n",
       "      <td>1.0</td>\n",
       "      <td>1</td>\n",
       "      <td>Leader, Dr. Alice (Farnham)</td>\n",
       "      <td>49.0</td>\n",
       "      <td>0</td>\n",
       "      <td>0</td>\n",
       "      <td>17465</td>\n",
       "      <td>D17</td>\n",
       "      <td>3.293211</td>\n",
       "      <td>0</td>\n",
       "      <td>0</td>\n",
       "      <td>0</td>\n",
       "      <td>1</td>\n",
       "      <td>Dr</td>\n",
       "    </tr>\n",
       "    <tr>\n",
       "      <th>1306</th>\n",
       "      <td>NaN</td>\n",
       "      <td>1</td>\n",
       "      <td>Oliva y Ocana, Dona. Fermina</td>\n",
       "      <td>39.0</td>\n",
       "      <td>0</td>\n",
       "      <td>0</td>\n",
       "      <td>PC 17758</td>\n",
       "      <td>C105</td>\n",
       "      <td>4.699571</td>\n",
       "      <td>0</td>\n",
       "      <td>1</td>\n",
       "      <td>0</td>\n",
       "      <td>0</td>\n",
       "      <td>Dona</td>\n",
       "    </tr>\n",
       "  </tbody>\n",
       "</table>\n",
       "</div>"
      ],
      "text/plain": [
       "             Survived  Pclass  \\\n",
       "PassengerId                     \n",
       "557               1.0       1   \n",
       "760               1.0       1   \n",
       "797               1.0       1   \n",
       "1306              NaN       1   \n",
       "\n",
       "                                                          Name   Age  SibSp  \\\n",
       "PassengerId                                                                   \n",
       "557          Duff Gordon, Lady. (Lucille Christiana Sutherl...  48.0      1   \n",
       "760          Rothes, the Countess. of (Lucy Noel Martha Dye...  33.0      0   \n",
       "797                                Leader, Dr. Alice (Farnham)  49.0      0   \n",
       "1306                              Oliva y Ocana, Dona. Fermina  39.0      0   \n",
       "\n",
       "             Parch    Ticket Cabin   LogFare  Sex_male  Embarked_C  \\\n",
       "PassengerId                                                          \n",
       "557              0     11755   A16  3.703768         0           1   \n",
       "760              0    110152   B77  4.471639         0           0   \n",
       "797              0     17465   D17  3.293211         0           0   \n",
       "1306             0  PC 17758  C105  4.699571         0           1   \n",
       "\n",
       "             Embarked_Q  Embarked_S         Title  \n",
       "PassengerId                                        \n",
       "557                   0           0          Lady  \n",
       "760                   0           1  the Countess  \n",
       "797                   0           1            Dr  \n",
       "1306                  0           0          Dona  "
      ]
     },
     "execution_count": 508,
     "metadata": {},
     "output_type": "execute_result"
    }
   ],
   "source": [
    "df[(df['Sex_male']==0) & (~df['Title'].isin(titles))]"
   ]
  },
  {
   "cell_type": "code",
   "execution_count": 509,
   "metadata": {},
   "outputs": [
    {
     "data": {
      "text/html": [
       "<div>\n",
       "<style scoped>\n",
       "    .dataframe tbody tr th:only-of-type {\n",
       "        vertical-align: middle;\n",
       "    }\n",
       "\n",
       "    .dataframe tbody tr th {\n",
       "        vertical-align: top;\n",
       "    }\n",
       "\n",
       "    .dataframe thead th {\n",
       "        text-align: right;\n",
       "    }\n",
       "</style>\n",
       "<table border=\"1\" class=\"dataframe\">\n",
       "  <thead>\n",
       "    <tr style=\"text-align: right;\">\n",
       "      <th></th>\n",
       "      <th>Survived</th>\n",
       "      <th>Pclass</th>\n",
       "      <th>Age</th>\n",
       "      <th>SibSp</th>\n",
       "      <th>Parch</th>\n",
       "      <th>LogFare</th>\n",
       "      <th>Sex_male</th>\n",
       "      <th>Embarked_C</th>\n",
       "      <th>Embarked_Q</th>\n",
       "      <th>Embarked_S</th>\n",
       "    </tr>\n",
       "  </thead>\n",
       "  <tbody>\n",
       "    <tr>\n",
       "      <th>count</th>\n",
       "      <td>126.000000</td>\n",
       "      <td>126.000000</td>\n",
       "      <td>109.000000</td>\n",
       "      <td>126.000000</td>\n",
       "      <td>126.000000</td>\n",
       "      <td>126.000000</td>\n",
       "      <td>126.0</td>\n",
       "      <td>126.000000</td>\n",
       "      <td>126.000000</td>\n",
       "      <td>126.000000</td>\n",
       "    </tr>\n",
       "    <tr>\n",
       "      <th>mean</th>\n",
       "      <td>0.793651</td>\n",
       "      <td>1.992063</td>\n",
       "      <td>35.788991</td>\n",
       "      <td>0.690476</td>\n",
       "      <td>0.825397</td>\n",
       "      <td>3.481821</td>\n",
       "      <td>0.0</td>\n",
       "      <td>0.253968</td>\n",
       "      <td>0.023810</td>\n",
       "      <td>0.722222</td>\n",
       "    </tr>\n",
       "    <tr>\n",
       "      <th>std</th>\n",
       "      <td>0.406300</td>\n",
       "      <td>0.824583</td>\n",
       "      <td>11.437490</td>\n",
       "      <td>0.599524</td>\n",
       "      <td>1.271719</td>\n",
       "      <td>0.808272</td>\n",
       "      <td>0.0</td>\n",
       "      <td>0.437017</td>\n",
       "      <td>0.153064</td>\n",
       "      <td>0.449691</td>\n",
       "    </tr>\n",
       "    <tr>\n",
       "      <th>min</th>\n",
       "      <td>0.000000</td>\n",
       "      <td>1.000000</td>\n",
       "      <td>14.000000</td>\n",
       "      <td>0.000000</td>\n",
       "      <td>0.000000</td>\n",
       "      <td>2.107178</td>\n",
       "      <td>0.0</td>\n",
       "      <td>0.000000</td>\n",
       "      <td>0.000000</td>\n",
       "      <td>0.000000</td>\n",
       "    </tr>\n",
       "    <tr>\n",
       "      <th>25%</th>\n",
       "      <td>1.000000</td>\n",
       "      <td>1.000000</td>\n",
       "      <td>27.000000</td>\n",
       "      <td>0.000000</td>\n",
       "      <td>0.000000</td>\n",
       "      <td>2.826566</td>\n",
       "      <td>0.0</td>\n",
       "      <td>0.000000</td>\n",
       "      <td>0.000000</td>\n",
       "      <td>0.000000</td>\n",
       "    </tr>\n",
       "    <tr>\n",
       "      <th>50%</th>\n",
       "      <td>1.000000</td>\n",
       "      <td>2.000000</td>\n",
       "      <td>35.000000</td>\n",
       "      <td>1.000000</td>\n",
       "      <td>0.000000</td>\n",
       "      <td>3.295837</td>\n",
       "      <td>0.0</td>\n",
       "      <td>0.000000</td>\n",
       "      <td>0.000000</td>\n",
       "      <td>1.000000</td>\n",
       "    </tr>\n",
       "    <tr>\n",
       "      <th>75%</th>\n",
       "      <td>1.000000</td>\n",
       "      <td>3.000000</td>\n",
       "      <td>44.000000</td>\n",
       "      <td>1.000000</td>\n",
       "      <td>1.000000</td>\n",
       "      <td>4.072999</td>\n",
       "      <td>0.0</td>\n",
       "      <td>0.750000</td>\n",
       "      <td>0.000000</td>\n",
       "      <td>1.000000</td>\n",
       "    </tr>\n",
       "    <tr>\n",
       "      <th>max</th>\n",
       "      <td>1.000000</td>\n",
       "      <td>3.000000</td>\n",
       "      <td>63.000000</td>\n",
       "      <td>3.000000</td>\n",
       "      <td>6.000000</td>\n",
       "      <td>5.515527</td>\n",
       "      <td>0.0</td>\n",
       "      <td>1.000000</td>\n",
       "      <td>1.000000</td>\n",
       "      <td>1.000000</td>\n",
       "    </tr>\n",
       "  </tbody>\n",
       "</table>\n",
       "</div>"
      ],
      "text/plain": [
       "         Survived      Pclass         Age       SibSp       Parch     LogFare  \\\n",
       "count  126.000000  126.000000  109.000000  126.000000  126.000000  126.000000   \n",
       "mean     0.793651    1.992063   35.788991    0.690476    0.825397    3.481821   \n",
       "std      0.406300    0.824583   11.437490    0.599524    1.271719    0.808272   \n",
       "min      0.000000    1.000000   14.000000    0.000000    0.000000    2.107178   \n",
       "25%      1.000000    1.000000   27.000000    0.000000    0.000000    2.826566   \n",
       "50%      1.000000    2.000000   35.000000    1.000000    0.000000    3.295837   \n",
       "75%      1.000000    3.000000   44.000000    1.000000    1.000000    4.072999   \n",
       "max      1.000000    3.000000   63.000000    3.000000    6.000000    5.515527   \n",
       "\n",
       "       Sex_male  Embarked_C  Embarked_Q  Embarked_S  \n",
       "count     126.0  126.000000  126.000000  126.000000  \n",
       "mean        0.0    0.253968    0.023810    0.722222  \n",
       "std         0.0    0.437017    0.153064    0.449691  \n",
       "min         0.0    0.000000    0.000000    0.000000  \n",
       "25%         0.0    0.000000    0.000000    0.000000  \n",
       "50%         0.0    0.000000    0.000000    1.000000  \n",
       "75%         0.0    0.750000    0.000000    1.000000  \n",
       "max         0.0    1.000000    1.000000    1.000000  "
      ]
     },
     "execution_count": 509,
     "metadata": {},
     "output_type": "execute_result"
    }
   ],
   "source": [
    "df[(df['Survived'].isna()==False) & (df['Title']=='Mrs')].describe()"
   ]
  },
  {
   "cell_type": "code",
   "execution_count": 510,
   "metadata": {},
   "outputs": [
    {
     "data": {
      "text/html": [
       "<div>\n",
       "<style scoped>\n",
       "    .dataframe tbody tr th:only-of-type {\n",
       "        vertical-align: middle;\n",
       "    }\n",
       "\n",
       "    .dataframe tbody tr th {\n",
       "        vertical-align: top;\n",
       "    }\n",
       "\n",
       "    .dataframe thead th {\n",
       "        text-align: right;\n",
       "    }\n",
       "</style>\n",
       "<table border=\"1\" class=\"dataframe\">\n",
       "  <thead>\n",
       "    <tr style=\"text-align: right;\">\n",
       "      <th></th>\n",
       "      <th>Survived</th>\n",
       "      <th>Pclass</th>\n",
       "      <th>Age</th>\n",
       "      <th>SibSp</th>\n",
       "      <th>Parch</th>\n",
       "      <th>LogFare</th>\n",
       "      <th>Sex_male</th>\n",
       "      <th>Embarked_C</th>\n",
       "      <th>Embarked_Q</th>\n",
       "      <th>Embarked_S</th>\n",
       "    </tr>\n",
       "  </thead>\n",
       "  <tbody>\n",
       "    <tr>\n",
       "      <th>count</th>\n",
       "      <td>185.000000</td>\n",
       "      <td>185.000000</td>\n",
       "      <td>149.000000</td>\n",
       "      <td>185.000000</td>\n",
       "      <td>185.000000</td>\n",
       "      <td>185.000000</td>\n",
       "      <td>185.0</td>\n",
       "      <td>185.000000</td>\n",
       "      <td>185.000000</td>\n",
       "      <td>185.000000</td>\n",
       "    </tr>\n",
       "    <tr>\n",
       "      <th>mean</th>\n",
       "      <td>0.702703</td>\n",
       "      <td>2.291892</td>\n",
       "      <td>21.845638</td>\n",
       "      <td>0.702703</td>\n",
       "      <td>0.540541</td>\n",
       "      <td>3.181088</td>\n",
       "      <td>0.0</td>\n",
       "      <td>0.216216</td>\n",
       "      <td>0.178378</td>\n",
       "      <td>0.605405</td>\n",
       "    </tr>\n",
       "    <tr>\n",
       "      <th>std</th>\n",
       "      <td>0.458309</td>\n",
       "      <td>0.854139</td>\n",
       "      <td>12.870542</td>\n",
       "      <td>1.423118</td>\n",
       "      <td>0.800631</td>\n",
       "      <td>1.020353</td>\n",
       "      <td>0.0</td>\n",
       "      <td>0.412781</td>\n",
       "      <td>0.383870</td>\n",
       "      <td>0.490090</td>\n",
       "    </tr>\n",
       "    <tr>\n",
       "      <th>min</th>\n",
       "      <td>0.000000</td>\n",
       "      <td>1.000000</td>\n",
       "      <td>0.750000</td>\n",
       "      <td>0.000000</td>\n",
       "      <td>0.000000</td>\n",
       "      <td>2.047693</td>\n",
       "      <td>0.0</td>\n",
       "      <td>0.000000</td>\n",
       "      <td>0.000000</td>\n",
       "      <td>0.000000</td>\n",
       "    </tr>\n",
       "    <tr>\n",
       "      <th>25%</th>\n",
       "      <td>0.000000</td>\n",
       "      <td>1.000000</td>\n",
       "      <td>14.500000</td>\n",
       "      <td>0.000000</td>\n",
       "      <td>0.000000</td>\n",
       "      <td>2.200464</td>\n",
       "      <td>0.0</td>\n",
       "      <td>0.000000</td>\n",
       "      <td>0.000000</td>\n",
       "      <td>0.000000</td>\n",
       "    </tr>\n",
       "    <tr>\n",
       "      <th>50%</th>\n",
       "      <td>1.000000</td>\n",
       "      <td>3.000000</td>\n",
       "      <td>21.000000</td>\n",
       "      <td>0.000000</td>\n",
       "      <td>0.000000</td>\n",
       "      <td>2.817903</td>\n",
       "      <td>0.0</td>\n",
       "      <td>0.000000</td>\n",
       "      <td>0.000000</td>\n",
       "      <td>1.000000</td>\n",
       "    </tr>\n",
       "    <tr>\n",
       "      <th>75%</th>\n",
       "      <td>1.000000</td>\n",
       "      <td>3.000000</td>\n",
       "      <td>30.000000</td>\n",
       "      <td>1.000000</td>\n",
       "      <td>1.000000</td>\n",
       "      <td>3.869116</td>\n",
       "      <td>0.0</td>\n",
       "      <td>0.000000</td>\n",
       "      <td>0.000000</td>\n",
       "      <td>1.000000</td>\n",
       "    </tr>\n",
       "    <tr>\n",
       "      <th>max</th>\n",
       "      <td>1.000000</td>\n",
       "      <td>3.000000</td>\n",
       "      <td>63.000000</td>\n",
       "      <td>8.000000</td>\n",
       "      <td>2.000000</td>\n",
       "      <td>6.240917</td>\n",
       "      <td>0.0</td>\n",
       "      <td>1.000000</td>\n",
       "      <td>1.000000</td>\n",
       "      <td>1.000000</td>\n",
       "    </tr>\n",
       "  </tbody>\n",
       "</table>\n",
       "</div>"
      ],
      "text/plain": [
       "         Survived      Pclass         Age       SibSp       Parch     LogFare  \\\n",
       "count  185.000000  185.000000  149.000000  185.000000  185.000000  185.000000   \n",
       "mean     0.702703    2.291892   21.845638    0.702703    0.540541    3.181088   \n",
       "std      0.458309    0.854139   12.870542    1.423118    0.800631    1.020353   \n",
       "min      0.000000    1.000000    0.750000    0.000000    0.000000    2.047693   \n",
       "25%      0.000000    1.000000   14.500000    0.000000    0.000000    2.200464   \n",
       "50%      1.000000    3.000000   21.000000    0.000000    0.000000    2.817903   \n",
       "75%      1.000000    3.000000   30.000000    1.000000    1.000000    3.869116   \n",
       "max      1.000000    3.000000   63.000000    8.000000    2.000000    6.240917   \n",
       "\n",
       "       Sex_male  Embarked_C  Embarked_Q  Embarked_S  \n",
       "count     185.0  185.000000  185.000000  185.000000  \n",
       "mean        0.0    0.216216    0.178378    0.605405  \n",
       "std         0.0    0.412781    0.383870    0.490090  \n",
       "min         0.0    0.000000    0.000000    0.000000  \n",
       "25%         0.0    0.000000    0.000000    0.000000  \n",
       "50%         0.0    0.000000    0.000000    1.000000  \n",
       "75%         0.0    0.000000    0.000000    1.000000  \n",
       "max         0.0    1.000000    1.000000    1.000000  "
      ]
     },
     "execution_count": 510,
     "metadata": {},
     "output_type": "execute_result"
    }
   ],
   "source": [
    "df[(df['Survived'].isna()==False) & (df['Title']=='Miss')].describe()"
   ]
  },
  {
   "cell_type": "markdown",
   "metadata": {},
   "source": [
    "There is no clear difference between Mrs and Miss like there was between Mr and Master. One thing we might be able to use is **SibSp**. Those titled Mrs may be travelling with their husbands and thus have a **SibSp** value of at least one. Let's see if this is a reasonable assumption."
   ]
  },
  {
   "cell_type": "code",
   "execution_count": 511,
   "metadata": {},
   "outputs": [
    {
     "data": {
      "text/plain": [
       "<matplotlib.legend.Legend at 0x19030f60e80>"
      ]
     },
     "execution_count": 511,
     "metadata": {},
     "output_type": "execute_result"
    },
    {
     "data": {
      "image/png": "[encoded data removed]",
      "text/plain": [
       "<Figure size 432x288 with 1 Axes>"
      ]
     },
     "metadata": {
      "needs_background": "light"
     },
     "output_type": "display_data"
    }
   ],
   "source": [
    "sns.countplot(data=df[df['Survived'].isna()==False],x='SibSp',hue='Title')\n",
    "plt.legend(bbox_to_anchor=(0.7,1))"
   ]
  },
  {
   "cell_type": "markdown",
   "metadata": {},
   "source": [
    "Our assumption does appear reasonable. Thus we replace the Countess, Dr, and Dona with Miss and Lady with Mrs."
   ]
  },
  {
   "cell_type": "code",
   "execution_count": 512,
   "metadata": {},
   "outputs": [],
   "source": [
    "df['Title'].replace(('the Countess','Dr','Dona'),'Miss',inplace=True)\n",
    "df['Title'].replace('Lady','Mrs',inplace=True)"
   ]
  },
  {
   "cell_type": "markdown",
   "metadata": {},
   "source": [
    "How useful is this **Title** feature?"
   ]
  },
  {
   "cell_type": "code",
   "execution_count": 513,
   "metadata": {},
   "outputs": [
    {
     "data": {
      "text/plain": [
       "<AxesSubplot:xlabel='Title', ylabel='count'>"
      ]
     },
     "execution_count": 513,
     "metadata": {},
     "output_type": "execute_result"
    },
    {
     "data": {
      "image/png": "[encoded data removed]",
      "text/plain": [
       "<Figure size 432x288 with 1 Axes>"
      ]
     },
     "metadata": {
      "needs_background": "light"
     },
     "output_type": "display_data"
    }
   ],
   "source": [
    "sns.countplot(data=df,x='Title',hue='Survived')"
   ]
  },
  {
   "cell_type": "markdown",
   "metadata": {},
   "source": [
    "It does not look like **Title** adds all that much. We already knew that women and children had higher odds of survival compared to men and **Title** simply reinforces that fact. Nonetheless we shall keep this feature as it may prove useful. Let's one-hot encode it."
   ]
  },
  {
   "cell_type": "code",
   "execution_count": 514,
   "metadata": {},
   "outputs": [],
   "source": [
    "df=pd.get_dummies(data=df,columns=['Title'])"
   ]
  },
  {
   "cell_type": "markdown",
   "metadata": {},
   "source": [
    "Let's drop **Name** now."
   ]
  },
  {
   "cell_type": "code",
   "execution_count": 515,
   "metadata": {},
   "outputs": [],
   "source": [
    "df.drop('Name',axis=1,inplace=True)"
   ]
  },
  {
   "cell_type": "markdown",
   "metadata": {},
   "source": [
    "### SibSp and Parch\n",
    "\n",
    "While there is not much feature engineering we can do with SibSp and Parch it might be useful to know how many family members a passenger had aboard the Titanic. This would simply be the sum of **SibSp** and **Parch**."
   ]
  },
  {
   "cell_type": "code",
   "execution_count": 516,
   "metadata": {},
   "outputs": [],
   "source": [
    "df['Fam']=df['SibSp']+df['Parch']"
   ]
  },
  {
   "cell_type": "markdown",
   "metadata": {},
   "source": [
    "Is **Fam** useful?"
   ]
  },
  {
   "cell_type": "code",
   "execution_count": 517,
   "metadata": {},
   "outputs": [
    {
     "data": {
      "text/plain": [
       "<AxesSubplot:xlabel='Fam', ylabel='count'>"
      ]
     },
     "execution_count": 517,
     "metadata": {},
     "output_type": "execute_result"
    },
    {
     "data": {
      "image/png": "[encoded data removed]",
      "text/plain": [
       "<Figure size 432x288 with 1 Axes>"
      ]
     },
     "metadata": {
      "needs_background": "light"
     },
     "output_type": "display_data"
    }
   ],
   "source": [
    "sns.countplot(data=df,x='Fam',hue='Survived')"
   ]
  },
  {
   "cell_type": "code",
   "execution_count": 518,
   "metadata": {
    "scrolled": true
   },
   "outputs": [
    {
     "data": {
      "text/html": [
       "<div>\n",
       "<style scoped>\n",
       "    .dataframe tbody tr th:only-of-type {\n",
       "        vertical-align: middle;\n",
       "    }\n",
       "\n",
       "    .dataframe tbody tr th {\n",
       "        vertical-align: top;\n",
       "    }\n",
       "\n",
       "    .dataframe thead th {\n",
       "        text-align: right;\n",
       "    }\n",
       "</style>\n",
       "<table border=\"1\" class=\"dataframe\">\n",
       "  <thead>\n",
       "    <tr style=\"text-align: right;\">\n",
       "      <th></th>\n",
       "      <th>Survived</th>\n",
       "      <th>Fam</th>\n",
       "    </tr>\n",
       "  </thead>\n",
       "  <tbody>\n",
       "    <tr>\n",
       "      <th>Survived</th>\n",
       "      <td>1.000000</td>\n",
       "      <td>0.016639</td>\n",
       "    </tr>\n",
       "    <tr>\n",
       "      <th>Fam</th>\n",
       "      <td>0.016639</td>\n",
       "      <td>1.000000</td>\n",
       "    </tr>\n",
       "  </tbody>\n",
       "</table>\n",
       "</div>"
      ],
      "text/plain": [
       "          Survived       Fam\n",
       "Survived  1.000000  0.016639\n",
       "Fam       0.016639  1.000000"
      ]
     },
     "execution_count": 518,
     "metadata": {},
     "output_type": "execute_result"
    }
   ],
   "source": [
    "df[['Survived','Fam']].corr()"
   ]
  },
  {
   "cell_type": "markdown",
   "metadata": {},
   "source": [
    "Rather than know how many family members were aboard the Titanic it might be more useful to know whether a passenger travelled without any family."
   ]
  },
  {
   "cell_type": "code",
   "execution_count": 519,
   "metadata": {},
   "outputs": [],
   "source": [
    "df['NoFam']=1*(df['Fam']==0)"
   ]
  },
  {
   "cell_type": "markdown",
   "metadata": {},
   "source": [
    "Is **NoFam** more useful than **Fam**?"
   ]
  },
  {
   "cell_type": "code",
   "execution_count": 520,
   "metadata": {},
   "outputs": [
    {
     "data": {
      "text/plain": [
       "<AxesSubplot:xlabel='NoFam', ylabel='count'>"
      ]
     },
     "execution_count": 520,
     "metadata": {},
     "output_type": "execute_result"
    },
    {
     "data": {
      "image/png": "[encoded data removed]",
      "text/plain": [
       "<Figure size 432x288 with 1 Axes>"
      ]
     },
     "metadata": {
      "needs_background": "light"
     },
     "output_type": "display_data"
    }
   ],
   "source": [
    "sns.countplot(data=df,x='NoFam',hue='Survived')"
   ]
  },
  {
   "cell_type": "code",
   "execution_count": 521,
   "metadata": {},
   "outputs": [
    {
     "data": {
      "text/html": [
       "<div>\n",
       "<style scoped>\n",
       "    .dataframe tbody tr th:only-of-type {\n",
       "        vertical-align: middle;\n",
       "    }\n",
       "\n",
       "    .dataframe tbody tr th {\n",
       "        vertical-align: top;\n",
       "    }\n",
       "\n",
       "    .dataframe thead th {\n",
       "        text-align: right;\n",
       "    }\n",
       "</style>\n",
       "<table border=\"1\" class=\"dataframe\">\n",
       "  <thead>\n",
       "    <tr style=\"text-align: right;\">\n",
       "      <th></th>\n",
       "      <th>Survived</th>\n",
       "      <th>NoFam</th>\n",
       "    </tr>\n",
       "  </thead>\n",
       "  <tbody>\n",
       "    <tr>\n",
       "      <th>Survived</th>\n",
       "      <td>1.000000</td>\n",
       "      <td>-0.203367</td>\n",
       "    </tr>\n",
       "    <tr>\n",
       "      <th>NoFam</th>\n",
       "      <td>-0.203367</td>\n",
       "      <td>1.000000</td>\n",
       "    </tr>\n",
       "  </tbody>\n",
       "</table>\n",
       "</div>"
      ],
      "text/plain": [
       "          Survived     NoFam\n",
       "Survived  1.000000 -0.203367\n",
       "NoFam    -0.203367  1.000000"
      ]
     },
     "execution_count": 521,
     "metadata": {},
     "output_type": "execute_result"
    }
   ],
   "source": [
    "df[['Survived','NoFam']].corr()"
   ]
  },
  {
   "cell_type": "markdown",
   "metadata": {},
   "source": [
    "It certainly seems that **NoFam** is a more helpful feature than **Fam**. Let's drop **Fam**."
   ]
  },
  {
   "cell_type": "code",
   "execution_count": 522,
   "metadata": {},
   "outputs": [],
   "source": [
    "df.drop('Fam',axis=1,inplace=True)"
   ]
  },
  {
   "cell_type": "markdown",
   "metadata": {},
   "source": [
    "### Ticket\n",
    "\n",
    "Let's see if there is any useful information in **Ticket**."
   ]
  },
  {
   "cell_type": "code",
   "execution_count": 523,
   "metadata": {},
   "outputs": [
    {
     "data": {
      "text/plain": [
       "PassengerId\n",
       "1           A/5 21171\n",
       "2            PC 17599\n",
       "3    STON/O2. 3101282\n",
       "4              113803\n",
       "5              373450\n",
       "Name: Ticket, dtype: object"
      ]
     },
     "execution_count": 523,
     "metadata": {},
     "output_type": "execute_result"
    }
   ],
   "source": [
    "train['Ticket'].head()"
   ]
  },
  {
   "cell_type": "code",
   "execution_count": 524,
   "metadata": {},
   "outputs": [
    {
     "data": {
      "text/plain": [
       "681"
      ]
     },
     "execution_count": 524,
     "metadata": {},
     "output_type": "execute_result"
    }
   ],
   "source": [
    "train['Ticket'].nunique()"
   ]
  },
  {
   "cell_type": "markdown",
   "metadata": {},
   "source": [
    "We have fewer tickets than passengers and so some tickets appear more than once. We might want to encode the number of times a tickt appears as a feature. However, this would be a form of data leakage as it requires information from the test set. As such we simply drop the Ticket feature."
   ]
  },
  {
   "cell_type": "code",
   "execution_count": 525,
   "metadata": {},
   "outputs": [],
   "source": [
    "df.drop('Ticket',axis=1,inplace=True)"
   ]
  },
  {
   "cell_type": "markdown",
   "metadata": {},
   "source": [
    "### LogFare\n",
    "\n",
    "Next up is **LogFare**. There is no required feature engineering here. We need only fill in the missing value."
   ]
  },
  {
   "cell_type": "code",
   "execution_count": 526,
   "metadata": {},
   "outputs": [
    {
     "data": {
      "text/html": [
       "<div>\n",
       "<style scoped>\n",
       "    .dataframe tbody tr th:only-of-type {\n",
       "        vertical-align: middle;\n",
       "    }\n",
       "\n",
       "    .dataframe tbody tr th {\n",
       "        vertical-align: top;\n",
       "    }\n",
       "\n",
       "    .dataframe thead th {\n",
       "        text-align: right;\n",
       "    }\n",
       "</style>\n",
       "<table border=\"1\" class=\"dataframe\">\n",
       "  <thead>\n",
       "    <tr style=\"text-align: right;\">\n",
       "      <th></th>\n",
       "      <th>Survived</th>\n",
       "      <th>Pclass</th>\n",
       "      <th>Age</th>\n",
       "      <th>SibSp</th>\n",
       "      <th>Parch</th>\n",
       "      <th>Cabin</th>\n",
       "      <th>LogFare</th>\n",
       "      <th>Sex_male</th>\n",
       "      <th>Embarked_C</th>\n",
       "      <th>Embarked_Q</th>\n",
       "      <th>Embarked_S</th>\n",
       "      <th>Title_Master</th>\n",
       "      <th>Title_Miss</th>\n",
       "      <th>Title_Mr</th>\n",
       "      <th>Title_Mrs</th>\n",
       "      <th>NoFam</th>\n",
       "    </tr>\n",
       "    <tr>\n",
       "      <th>PassengerId</th>\n",
       "      <th></th>\n",
       "      <th></th>\n",
       "      <th></th>\n",
       "      <th></th>\n",
       "      <th></th>\n",
       "      <th></th>\n",
       "      <th></th>\n",
       "      <th></th>\n",
       "      <th></th>\n",
       "      <th></th>\n",
       "      <th></th>\n",
       "      <th></th>\n",
       "      <th></th>\n",
       "      <th></th>\n",
       "      <th></th>\n",
       "      <th></th>\n",
       "    </tr>\n",
       "  </thead>\n",
       "  <tbody>\n",
       "    <tr>\n",
       "      <th>1044</th>\n",
       "      <td>NaN</td>\n",
       "      <td>3</td>\n",
       "      <td>60.5</td>\n",
       "      <td>0</td>\n",
       "      <td>0</td>\n",
       "      <td>NaN</td>\n",
       "      <td>NaN</td>\n",
       "      <td>1</td>\n",
       "      <td>0</td>\n",
       "      <td>0</td>\n",
       "      <td>1</td>\n",
       "      <td>0</td>\n",
       "      <td>0</td>\n",
       "      <td>1</td>\n",
       "      <td>0</td>\n",
       "      <td>1</td>\n",
       "    </tr>\n",
       "  </tbody>\n",
       "</table>\n",
       "</div>"
      ],
      "text/plain": [
       "             Survived  Pclass   Age  SibSp  Parch Cabin  LogFare  Sex_male  \\\n",
       "PassengerId                                                                  \n",
       "1044              NaN       3  60.5      0      0   NaN      NaN         1   \n",
       "\n",
       "             Embarked_C  Embarked_Q  Embarked_S  Title_Master  Title_Miss  \\\n",
       "PassengerId                                                                 \n",
       "1044                  0           0           1             0           0   \n",
       "\n",
       "             Title_Mr  Title_Mrs  NoFam  \n",
       "PassengerId                              \n",
       "1044                1          0      1  "
      ]
     },
     "execution_count": 526,
     "metadata": {},
     "output_type": "execute_result"
    }
   ],
   "source": [
    "df[df['LogFare'].isna()]"
   ]
  },
  {
   "cell_type": "markdown",
   "metadata": {},
   "source": [
    "This passenger was an elderly male travelling alone in third class who embarked from Southampton. Let's try to estimate his fare. First we determine what correlates well with **LogFare**."
   ]
  },
  {
   "cell_type": "code",
   "execution_count": 527,
   "metadata": {},
   "outputs": [
    {
     "data": {
      "text/plain": [
       "<AxesSubplot:>"
      ]
     },
     "execution_count": 527,
     "metadata": {},
     "output_type": "execute_result"
    },
    {
     "data": {
      "image/png": "[encoded data removed]",
      "text/plain": [
       "<Figure size 432x288 with 1 Axes>"
      ]
     },
     "metadata": {
      "needs_background": "light"
     },
     "output_type": "display_data"
    }
   ],
   "source": [
    "df[df['Survived'].isna()==False].corr()['LogFare'].drop('LogFare').sort_values().plot(kind='bar')"
   ]
  },
  {
   "cell_type": "markdown",
   "metadata": {},
   "source": [
    "**Pclass** and **NoFam** seem to correlate best with **LogFare**."
   ]
  },
  {
   "cell_type": "code",
   "execution_count": 528,
   "metadata": {},
   "outputs": [
    {
     "data": {
      "text/plain": [
       "<AxesSubplot:xlabel='LogFare', ylabel='Count'>"
      ]
     },
     "execution_count": 528,
     "metadata": {},
     "output_type": "execute_result"
    },
    {
     "data": {
      "image/png": "[encoded data removed]",
      "text/plain": [
       "<Figure size 432x288 with 1 Axes>"
      ]
     },
     "metadata": {
      "needs_background": "light"
     },
     "output_type": "display_data"
    }
   ],
   "source": [
    "sns.histplot(data=df[(df['Survived'].isna()==False) & (df['Pclass']==3) & (df['NoFam']==1)],x='LogFare',kde=True)"
   ]
  },
  {
   "cell_type": "markdown",
   "metadata": {},
   "source": [
    "It seems fairly reasonable to impute the missing **LogFare** value as the median value for a passenger in third class with no family aboard."
   ]
  },
  {
   "cell_type": "code",
   "execution_count": 529,
   "metadata": {},
   "outputs": [],
   "source": [
    "df.loc[df['LogFare'].isna(),'LogFare']=df[(df['Survived'].isna()==False) & (df['Pclass']==3) & (df['NoFam']==1)]['LogFare'].median()"
   ]
  },
  {
   "cell_type": "markdown",
   "metadata": {},
   "source": [
    "### Cabin\n",
    "\n",
    "Recall that **Cabin** was missing roughly 77% of its values. This percentage is far too large to impute the missing values. Instead, one feature which may prove useful is encoding whether a cabin number is unknown."
   ]
  },
  {
   "cell_type": "code",
   "execution_count": 530,
   "metadata": {},
   "outputs": [],
   "source": [
    "df['CabinUnknown']=1*(df['Cabin'].isna())"
   ]
  },
  {
   "cell_type": "markdown",
   "metadata": {},
   "source": [
    "How useful is **CabinUnknown**?"
   ]
  },
  {
   "cell_type": "code",
   "execution_count": 531,
   "metadata": {},
   "outputs": [
    {
     "data": {
      "text/plain": [
       "<AxesSubplot:xlabel='CabinUnknown', ylabel='count'>"
      ]
     },
     "execution_count": 531,
     "metadata": {},
     "output_type": "execute_result"
    },
    {
     "data": {
      "image/png": "[encoded data removed]",
      "text/plain": [
       "<Figure size 432x288 with 1 Axes>"
      ]
     },
     "metadata": {
      "needs_background": "light"
     },
     "output_type": "display_data"
    }
   ],
   "source": [
    "sns.countplot(data=df,x='CabinUnknown',hue='Survived')"
   ]
  },
  {
   "cell_type": "markdown",
   "metadata": {},
   "source": [
    "It seems as though knowing whether the cabin number is unknown is actually quite useful. To see what else we may be able to glean from **Cabin** let's take a look at some values."
   ]
  },
  {
   "cell_type": "code",
   "execution_count": 532,
   "metadata": {},
   "outputs": [
    {
     "data": {
      "text/plain": [
       "PassengerId\n",
       "2      C85\n",
       "4     C123\n",
       "7      E46\n",
       "11      G6\n",
       "12    C103\n",
       "Name: Cabin, dtype: object"
      ]
     },
     "execution_count": 532,
     "metadata": {},
     "output_type": "execute_result"
    }
   ],
   "source": [
    "train['Cabin'].dropna().head()"
   ]
  },
  {
   "cell_type": "code",
   "execution_count": 533,
   "metadata": {},
   "outputs": [
    {
     "data": {
      "text/plain": [
       "B96 B98        4\n",
       "C23 C25 C27    4\n",
       "G6             4\n",
       "E101           3\n",
       "D              3\n",
       "F2             3\n",
       "F33            3\n",
       "C22 C26        3\n",
       "D26            2\n",
       "E25            2\n",
       "B5             2\n",
       "B22            2\n",
       "B28            2\n",
       "E8             2\n",
       "D20            2\n",
       "C92            2\n",
       "D35            2\n",
       "C93            2\n",
       "E33            2\n",
       "C52            2\n",
       "Name: Cabin, dtype: int64"
      ]
     },
     "execution_count": 533,
     "metadata": {},
     "output_type": "execute_result"
    }
   ],
   "source": [
    "train['Cabin'].value_counts().head(20)"
   ]
  },
  {
   "cell_type": "markdown",
   "metadata": {},
   "source": [
    "It looks like **Cabin** values contains a code consisting of a letter-number pair (and in rare instances there is no number). Let's extract the cabin letter and see how useful of a feature that is."
   ]
  },
  {
   "cell_type": "code",
   "execution_count": 534,
   "metadata": {
    "scrolled": true
   },
   "outputs": [
    {
     "data": {
      "text/plain": [
       "0    1014\n",
       "C      94\n",
       "B      65\n",
       "D      46\n",
       "E      41\n",
       "A      22\n",
       "F      21\n",
       "G       5\n",
       "T       1\n",
       "Name: CabinLetter, dtype: int64"
      ]
     },
     "execution_count": 534,
     "metadata": {},
     "output_type": "execute_result"
    }
   ],
   "source": [
    "def CabinLetter(cabin_name):\n",
    "    if isinstance(cabin_name,str):\n",
    "        return cabin_name[0]\n",
    "    else:\n",
    "        return 0 # return 0 for those without cabin names\n",
    "df['CabinLetter']=df['Cabin'].apply(CabinLetter)\n",
    "df['CabinLetter'].value_counts()"
   ]
  },
  {
   "cell_type": "markdown",
   "metadata": {},
   "source": [
    "Let's investigate the usefulness of **CabinLetter**."
   ]
  },
  {
   "cell_type": "code",
   "execution_count": 535,
   "metadata": {},
   "outputs": [
    {
     "data": {
      "text/plain": [
       "<AxesSubplot:xlabel='CabinLetter', ylabel='count'>"
      ]
     },
     "execution_count": 535,
     "metadata": {},
     "output_type": "execute_result"
    },
    {
     "data": {
      "image/png": "[encoded data removed]",
      "text/plain": [
       "<Figure size 432x288 with 1 Axes>"
      ]
     },
     "metadata": {
      "needs_background": "light"
     },
     "output_type": "display_data"
    }
   ],
   "source": [
    "sns.countplot(data=df[df['CabinLetter']!=0],x='CabinLetter',hue='Survived')"
   ]
  },
  {
   "cell_type": "markdown",
   "metadata": {},
   "source": [
    "The sample sizes for each cabin letter is too small to really be useful. Furthermore, without knowing what the cabin letters represent we cannot really do all that much with them. Let's drop **CabinLetter** and the original **Cabin** feature."
   ]
  },
  {
   "cell_type": "code",
   "execution_count": 536,
   "metadata": {},
   "outputs": [],
   "source": [
    "df.drop(['CabinLetter','Cabin'],axis=1,inplace=True)"
   ]
  },
  {
   "cell_type": "markdown",
   "metadata": {},
   "source": [
    "### Age\n",
    "\n",
    "The last feature we shall consider is **Age**. This feature is missing approximately 20% of its values. Let's try to impute the missing data. First let's establish what correlates with age."
   ]
  },
  {
   "cell_type": "code",
   "execution_count": 537,
   "metadata": {},
   "outputs": [
    {
     "data": {
      "text/plain": [
       "<AxesSubplot:>"
      ]
     },
     "execution_count": 537,
     "metadata": {},
     "output_type": "execute_result"
    },
    {
     "data": {
      "image/png": "[encoded data removed]",
      "text/plain": [
       "<Figure size 432x288 with 1 Axes>"
      ]
     },
     "metadata": {
      "needs_background": "light"
     },
     "output_type": "display_data"
    }
   ],
   "source": [
    "df[df['Survived'].isna()==False].corr()['Age'].drop(['Age','Survived']).sort_values().plot(kind='bar')"
   ]
  },
  {
   "cell_type": "markdown",
   "metadata": {},
   "source": [
    "Let's use **Pclass**, **NoFam**, **CabinUnknown**, and the title features to try and impute the missing ages. When imputing a passenger's age we shall look at all passengers with the same **Pclass**, **NoFam**, and **CabinUnknown** values as well as the same title. We then impute their age randomly from a normal distribution with appropriate mean and standard deviation."
   ]
  },
  {
   "cell_type": "code",
   "execution_count": 538,
   "metadata": {},
   "outputs": [],
   "source": [
    "import itertools"
   ]
  },
  {
   "cell_type": "code",
   "execution_count": 539,
   "metadata": {},
   "outputs": [],
   "source": [
    "# create a dataframe consisting of passengers with known ages\n",
    "age_known=df[(df['Survived'].isna()==False) & (df['Age'].isna()==False)]\n",
    "\n",
    "# initialize the dictionary that will contain the means and standard deviations\n",
    "age_info=dict()\n",
    "\n",
    "# fill in the dictionary\n",
    "for pclass,nofam,cabin,title in itertools.product([1,2,3],[0,1],[0,1],['Mr','Mrs','Miss','Master']):\n",
    "    curr_age_known=age_known[(age_known['Pclass']==pclass) & (age_known['NoFam']==nofam) & (age_known['CabinUnknown']==cabin) & (age_known['Title_'+title]==1)]['Age']\n",
    "    age_info[(pclass,nofam,cabin,title)]=(curr_age_known.mean(),curr_age_known.std())\n",
    "\n",
    "# create a function to impute the missing ages\n",
    "def age_imputer(age,pclass,nofam,cabin,title):\n",
    "    if np.isnan(age):\n",
    "        key=age_info[(pclass,nofam,cabin,title)]\n",
    "        return np.random.normal(loc=key[0],scale=key[1])\n",
    "    else:\n",
    "        return age\n",
    "    \n",
    "# create a function that returns a passengers title (needed for the previous function)\n",
    "def titler(mr,mrs,miss,master):\n",
    "    if mr==1:\n",
    "        return 'Mr'\n",
    "    elif mrs==1:\n",
    "        return 'Mrs'\n",
    "    elif miss==1:\n",
    "        return 'Miss'\n",
    "    else:\n",
    "        return 'Master'\n",
    "\n",
    "# impute the missing age values\n",
    "df['Title']=df.apply(lambda x:titler(x['Title_Mr'],x['Title_Mrs'],x['Title_Miss'],x['Title_Master']),axis=1)\n",
    "df['Age']=df.apply(lambda x:age_imputer(x['Age'],x['Pclass'],x['NoFam'],x['CabinUnknown'],x['Title']),axis=1)\n",
    "df.drop('Title',axis=1,inplace=True)"
   ]
  },
  {
   "cell_type": "markdown",
   "metadata": {},
   "source": [
    "Let's see if we have any missing ages after this."
   ]
  },
  {
   "cell_type": "code",
   "execution_count": 540,
   "metadata": {
    "scrolled": true
   },
   "outputs": [
    {
     "data": {
      "text/html": [
       "<div>\n",
       "<style scoped>\n",
       "    .dataframe tbody tr th:only-of-type {\n",
       "        vertical-align: middle;\n",
       "    }\n",
       "\n",
       "    .dataframe tbody tr th {\n",
       "        vertical-align: top;\n",
       "    }\n",
       "\n",
       "    .dataframe thead th {\n",
       "        text-align: right;\n",
       "    }\n",
       "</style>\n",
       "<table border=\"1\" class=\"dataframe\">\n",
       "  <thead>\n",
       "    <tr style=\"text-align: right;\">\n",
       "      <th></th>\n",
       "      <th>Survived</th>\n",
       "      <th>Pclass</th>\n",
       "      <th>Age</th>\n",
       "      <th>SibSp</th>\n",
       "      <th>Parch</th>\n",
       "      <th>LogFare</th>\n",
       "      <th>Sex_male</th>\n",
       "      <th>Embarked_C</th>\n",
       "      <th>Embarked_Q</th>\n",
       "      <th>Embarked_S</th>\n",
       "      <th>Title_Master</th>\n",
       "      <th>Title_Miss</th>\n",
       "      <th>Title_Mr</th>\n",
       "      <th>Title_Mrs</th>\n",
       "      <th>NoFam</th>\n",
       "      <th>CabinUnknown</th>\n",
       "    </tr>\n",
       "    <tr>\n",
       "      <th>PassengerId</th>\n",
       "      <th></th>\n",
       "      <th></th>\n",
       "      <th></th>\n",
       "      <th></th>\n",
       "      <th></th>\n",
       "      <th></th>\n",
       "      <th></th>\n",
       "      <th></th>\n",
       "      <th></th>\n",
       "      <th></th>\n",
       "      <th></th>\n",
       "      <th></th>\n",
       "      <th></th>\n",
       "      <th></th>\n",
       "      <th></th>\n",
       "      <th></th>\n",
       "    </tr>\n",
       "  </thead>\n",
       "  <tbody>\n",
       "    <tr>\n",
       "      <th>257</th>\n",
       "      <td>1.0</td>\n",
       "      <td>1</td>\n",
       "      <td>NaN</td>\n",
       "      <td>0</td>\n",
       "      <td>0</td>\n",
       "      <td>4.384524</td>\n",
       "      <td>0</td>\n",
       "      <td>1</td>\n",
       "      <td>0</td>\n",
       "      <td>0</td>\n",
       "      <td>0</td>\n",
       "      <td>0</td>\n",
       "      <td>0</td>\n",
       "      <td>1</td>\n",
       "      <td>1</td>\n",
       "      <td>1</td>\n",
       "    </tr>\n",
       "    <tr>\n",
       "      <th>914</th>\n",
       "      <td>NaN</td>\n",
       "      <td>1</td>\n",
       "      <td>NaN</td>\n",
       "      <td>0</td>\n",
       "      <td>0</td>\n",
       "      <td>3.486864</td>\n",
       "      <td>0</td>\n",
       "      <td>0</td>\n",
       "      <td>0</td>\n",
       "      <td>1</td>\n",
       "      <td>0</td>\n",
       "      <td>0</td>\n",
       "      <td>0</td>\n",
       "      <td>1</td>\n",
       "      <td>1</td>\n",
       "      <td>1</td>\n",
       "    </tr>\n",
       "    <tr>\n",
       "      <th>1060</th>\n",
       "      <td>NaN</td>\n",
       "      <td>1</td>\n",
       "      <td>NaN</td>\n",
       "      <td>0</td>\n",
       "      <td>0</td>\n",
       "      <td>3.357622</td>\n",
       "      <td>0</td>\n",
       "      <td>1</td>\n",
       "      <td>0</td>\n",
       "      <td>0</td>\n",
       "      <td>0</td>\n",
       "      <td>0</td>\n",
       "      <td>0</td>\n",
       "      <td>1</td>\n",
       "      <td>1</td>\n",
       "      <td>1</td>\n",
       "    </tr>\n",
       "    <tr>\n",
       "      <th>1231</th>\n",
       "      <td>NaN</td>\n",
       "      <td>3</td>\n",
       "      <td>NaN</td>\n",
       "      <td>0</td>\n",
       "      <td>0</td>\n",
       "      <td>2.107689</td>\n",
       "      <td>1</td>\n",
       "      <td>1</td>\n",
       "      <td>0</td>\n",
       "      <td>0</td>\n",
       "      <td>1</td>\n",
       "      <td>0</td>\n",
       "      <td>0</td>\n",
       "      <td>0</td>\n",
       "      <td>1</td>\n",
       "      <td>1</td>\n",
       "    </tr>\n",
       "  </tbody>\n",
       "</table>\n",
       "</div>"
      ],
      "text/plain": [
       "             Survived  Pclass  Age  SibSp  Parch   LogFare  Sex_male  \\\n",
       "PassengerId                                                            \n",
       "257               1.0       1  NaN      0      0  4.384524         0   \n",
       "914               NaN       1  NaN      0      0  3.486864         0   \n",
       "1060              NaN       1  NaN      0      0  3.357622         0   \n",
       "1231              NaN       3  NaN      0      0  2.107689         1   \n",
       "\n",
       "             Embarked_C  Embarked_Q  Embarked_S  Title_Master  Title_Miss  \\\n",
       "PassengerId                                                                 \n",
       "257                   1           0           0             0           0   \n",
       "914                   0           0           1             0           0   \n",
       "1060                  1           0           0             0           0   \n",
       "1231                  1           0           0             1           0   \n",
       "\n",
       "             Title_Mr  Title_Mrs  NoFam  CabinUnknown  \n",
       "PassengerId                                            \n",
       "257                 0          1      1             1  \n",
       "914                 0          1      1             1  \n",
       "1060                0          1      1             1  \n",
       "1231                0          0      1             1  "
      ]
     },
     "execution_count": 540,
     "metadata": {},
     "output_type": "execute_result"
    }
   ],
   "source": [
    "df[df['Age'].isna()]"
   ]
  },
  {
   "cell_type": "markdown",
   "metadata": {},
   "source": [
    "We still have some missing ages. Why?"
   ]
  },
  {
   "cell_type": "code",
   "execution_count": 541,
   "metadata": {},
   "outputs": [
    {
     "name": "stdout",
     "output_type": "stream",
     "text": [
      "(nan, nan)\n",
      "(nan, nan)\n"
     ]
    }
   ],
   "source": [
    "print(age_info[1,1,1,'Mrs'])\n",
    "print(age_info[3,1,1,'Master'])"
   ]
  },
  {
   "cell_type": "markdown",
   "metadata": {},
   "source": [
    "It seems like the missing ages are due to not having any passengers satisfying the required criteria. There are very few missing ages so lets simply impute just based on **Pclass** and title. Note that there are only two types of passengers with missing ages: first class passengers titled Mrs and a third class passenger titled Master."
   ]
  },
  {
   "cell_type": "code",
   "execution_count": 542,
   "metadata": {},
   "outputs": [],
   "source": [
    "# set up the relevant data\n",
    "age_known_1_mrs=age_known[(age_known['Pclass']==1) & (age_known['Title_Mrs']==1)]['Age']\n",
    "age_known_3_master=age_known[(age_known['Pclass']==3) & (age_known['Title_Master']==1)]['Age']\n",
    "\n",
    "# impute the missing ages\n",
    "df.loc[(df['Age'].isna()) & (df['Pclass']==1),'Age']=np.random.normal(loc=age_known_1_mrs.mean(),scale=age_known_1_mrs.std(),size=3)\n",
    "df.loc[(df['Age'].isna()) & (df['Pclass']==3),'Age']=np.random.normal(loc=age_known_3_master.mean(),scale=age_known_3_master.std())"
   ]
  },
  {
   "cell_type": "markdown",
   "metadata": {},
   "source": [
    "We no longer have missing age data."
   ]
  },
  {
   "cell_type": "code",
   "execution_count": 543,
   "metadata": {},
   "outputs": [
    {
     "data": {
      "text/plain": [
       "0"
      ]
     },
     "execution_count": 543,
     "metadata": {},
     "output_type": "execute_result"
    }
   ],
   "source": [
    "df['Age'].isna().sum()"
   ]
  },
  {
   "cell_type": "markdown",
   "metadata": {},
   "source": [
    "Let's see if what we imputed appears reasonable."
   ]
  },
  {
   "cell_type": "code",
   "execution_count": 544,
   "metadata": {},
   "outputs": [
    {
     "data": {
      "text/plain": [
       "<matplotlib.legend.Legend at 0x19031894c40>"
      ]
     },
     "execution_count": 544,
     "metadata": {},
     "output_type": "execute_result"
    },
    {
     "data": {
      "image/png": "[encoded data removed]",
      "text/plain": [
       "<Figure size 432x288 with 1 Axes>"
      ]
     },
     "metadata": {
      "needs_background": "light"
     },
     "output_type": "display_data"
    }
   ],
   "source": [
    "sns.histplot(data=train,x='Age',kde=True,color='blue',label='Ages before imputing')\n",
    "sns.histplot(data=df[df['Survived'].isna()==False],x='Age',kde=True,color='red',label='Ages after imputing')\n",
    "plt.legend()"
   ]
  },
  {
   "cell_type": "markdown",
   "metadata": {},
   "source": [
    "It looks like our imputed values are fairly reasonable. Now recall that we previously noted a difference in behaviour for young ages pertaining to survival. Let's make a feature encoding whether a passenger is younger than 7 years old."
   ]
  },
  {
   "cell_type": "code",
   "execution_count": 545,
   "metadata": {},
   "outputs": [],
   "source": [
    "df['Young']=1*(df['Age']<7)"
   ]
  },
  {
   "cell_type": "markdown",
   "metadata": {},
   "source": [
    "Is this feature worth keeping?"
   ]
  },
  {
   "cell_type": "code",
   "execution_count": 546,
   "metadata": {},
   "outputs": [
    {
     "data": {
      "text/plain": [
       "<AxesSubplot:xlabel='Young', ylabel='count'>"
      ]
     },
     "execution_count": 546,
     "metadata": {},
     "output_type": "execute_result"
    },
    {
     "data": {
      "image/png": "[encoded data removed]",
      "text/plain": [
       "<Figure size 432x288 with 1 Axes>"
      ]
     },
     "metadata": {
      "needs_background": "light"
     },
     "output_type": "display_data"
    }
   ],
   "source": [
    "sns.countplot(data=df,x='Young',hue='Survived')"
   ]
  },
  {
   "cell_type": "code",
   "execution_count": 547,
   "metadata": {},
   "outputs": [
    {
     "data": {
      "text/html": [
       "<div>\n",
       "<style scoped>\n",
       "    .dataframe tbody tr th:only-of-type {\n",
       "        vertical-align: middle;\n",
       "    }\n",
       "\n",
       "    .dataframe tbody tr th {\n",
       "        vertical-align: top;\n",
       "    }\n",
       "\n",
       "    .dataframe thead th {\n",
       "        text-align: right;\n",
       "    }\n",
       "</style>\n",
       "<table border=\"1\" class=\"dataframe\">\n",
       "  <thead>\n",
       "    <tr style=\"text-align: right;\">\n",
       "      <th></th>\n",
       "      <th>Survived</th>\n",
       "      <th>Young</th>\n",
       "      <th>Age</th>\n",
       "    </tr>\n",
       "  </thead>\n",
       "  <tbody>\n",
       "    <tr>\n",
       "      <th>Survived</th>\n",
       "      <td>1.000000</td>\n",
       "      <td>0.147223</td>\n",
       "      <td>-0.065795</td>\n",
       "    </tr>\n",
       "    <tr>\n",
       "      <th>Young</th>\n",
       "      <td>0.147223</td>\n",
       "      <td>1.000000</td>\n",
       "      <td>-0.485984</td>\n",
       "    </tr>\n",
       "    <tr>\n",
       "      <th>Age</th>\n",
       "      <td>-0.065795</td>\n",
       "      <td>-0.485984</td>\n",
       "      <td>1.000000</td>\n",
       "    </tr>\n",
       "  </tbody>\n",
       "</table>\n",
       "</div>"
      ],
      "text/plain": [
       "          Survived     Young       Age\n",
       "Survived  1.000000  0.147223 -0.065795\n",
       "Young     0.147223  1.000000 -0.485984\n",
       "Age      -0.065795 -0.485984  1.000000"
      ]
     },
     "execution_count": 547,
     "metadata": {},
     "output_type": "execute_result"
    }
   ],
   "source": [
    "df[['Survived','Young','Age']].corr()"
   ]
  },
  {
   "cell_type": "markdown",
   "metadata": {},
   "source": [
    "While not the best correlation it seems that **Young** correlates better with survival than **Age** so let's keep **Young**.\n",
    "\n",
    "Notice we no longer have any missing data."
   ]
  },
  {
   "cell_type": "code",
   "execution_count": 548,
   "metadata": {},
   "outputs": [
    {
     "data": {
      "text/plain": [
       "Survived        418\n",
       "Pclass            0\n",
       "Age               0\n",
       "SibSp             0\n",
       "Parch             0\n",
       "LogFare           0\n",
       "Sex_male          0\n",
       "Embarked_C        0\n",
       "Embarked_Q        0\n",
       "Embarked_S        0\n",
       "Title_Master      0\n",
       "Title_Miss        0\n",
       "Title_Mr          0\n",
       "Title_Mrs         0\n",
       "NoFam             0\n",
       "CabinUnknown      0\n",
       "Young             0\n",
       "dtype: int64"
      ]
     },
     "execution_count": 548,
     "metadata": {},
     "output_type": "execute_result"
    }
   ],
   "source": [
    "df.isna().sum()"
   ]
  },
  {
   "cell_type": "markdown",
   "metadata": {},
   "source": [
    "For the features which we one-hot encoded, such as **Embarked** and **Title**, we do not need to keep all the resulting features. Indeed, if there are n such features then knowing any n-1 of them uniquely determines the last feature. As a result we drop **Embarked_Q** and **Title_Master**."
   ]
  },
  {
   "cell_type": "code",
   "execution_count": 549,
   "metadata": {},
   "outputs": [],
   "source": [
    "df.drop(['Embarked_Q','Title_Master'],axis=1,inplace=True)"
   ]
  },
  {
   "cell_type": "markdown",
   "metadata": {},
   "source": [
    "Our original train and test datasets are missing a lot of the features that we engineered. Let's redefine them now that all the feature engineering is done."
   ]
  },
  {
   "cell_type": "code",
   "execution_count": 550,
   "metadata": {},
   "outputs": [],
   "source": [
    "train=df[df['Survived'].isna()==False]\n",
    "test=df[df['Survived'].isna()].drop('Survived',axis=1)"
   ]
  },
  {
   "cell_type": "markdown",
   "metadata": {},
   "source": [
    "## Predictions"
   ]
  },
  {
   "cell_type": "markdown",
   "metadata": {},
   "source": [
    "Before we make any predictions we should scale our data."
   ]
  },
  {
   "cell_type": "code",
   "execution_count": 551,
   "metadata": {},
   "outputs": [],
   "source": [
    "from sklearn.preprocessing import MinMaxScaler"
   ]
  },
  {
   "cell_type": "code",
   "execution_count": 552,
   "metadata": {},
   "outputs": [],
   "source": [
    "scaler=MinMaxScaler()\n",
    "train_s=train.copy()\n",
    "train_s[train_s.columns.drop('Survived')]=scaler.fit_transform(train_s.drop('Survived',axis=1))\n",
    "test_s=test.copy()\n",
    "test_s[test_s.columns]=scaler.transform(test[test_s.columns])"
   ]
  },
  {
   "cell_type": "markdown",
   "metadata": {},
   "source": [
    "There is a wide variety of machine learning algorithms that we could use to make our predictions. In all cases we will need to split the training data to create validation data. It will also be helpful to use some metrics to determine how well our predictions are performing. Let's import the relevant modules."
   ]
  },
  {
   "cell_type": "code",
   "execution_count": 553,
   "metadata": {},
   "outputs": [],
   "source": [
    "from sklearn.model_selection import train_test_split,StratifiedKFold\n",
    "from sklearn.metrics import classification_report,confusion_matrix"
   ]
  },
  {
   "cell_type": "markdown",
   "metadata": {},
   "source": [
    "### Logistic Regression\n",
    "\n",
    "The first model we will employ is a basic logistic regression."
   ]
  },
  {
   "cell_type": "code",
   "execution_count": 554,
   "metadata": {},
   "outputs": [],
   "source": [
    "from sklearn.linear_model import LogisticRegressionCV"
   ]
  },
  {
   "cell_type": "code",
   "execution_count": 555,
   "metadata": {},
   "outputs": [
    {
     "name": "stdout",
     "output_type": "stream",
     "text": [
      "Fold 1\n",
      "              precision    recall  f1-score   support\n",
      "\n",
      "         0.0       0.83      0.88      0.85       110\n",
      "         1.0       0.79      0.71      0.75        69\n",
      "\n",
      "    accuracy                           0.82       179\n",
      "   macro avg       0.81      0.80      0.80       179\n",
      "weighted avg       0.81      0.82      0.81       179\n",
      "\n",
      "[[97 13]\n",
      " [20 49]]\n",
      "\n",
      "\n",
      "Fold 2\n",
      "              precision    recall  f1-score   support\n",
      "\n",
      "         0.0       0.85      0.96      0.91       110\n",
      "         1.0       0.93      0.74      0.82        68\n",
      "\n",
      "    accuracy                           0.88       178\n",
      "   macro avg       0.89      0.85      0.86       178\n",
      "weighted avg       0.88      0.88      0.87       178\n",
      "\n",
      "[[106   4]\n",
      " [ 18  50]]\n",
      "\n",
      "\n",
      "Fold 3\n",
      "              precision    recall  f1-score   support\n",
      "\n",
      "         0.0       0.89      0.86      0.88       110\n",
      "         1.0       0.79      0.82      0.81        68\n",
      "\n",
      "    accuracy                           0.85       178\n",
      "   macro avg       0.84      0.84      0.84       178\n",
      "weighted avg       0.85      0.85      0.85       178\n",
      "\n",
      "[[95 15]\n",
      " [12 56]]\n",
      "\n",
      "\n",
      "Fold 4\n",
      "              precision    recall  f1-score   support\n",
      "\n",
      "         0.0       0.85      0.82      0.83       110\n",
      "         1.0       0.72      0.76      0.74        68\n",
      "\n",
      "    accuracy                           0.80       178\n",
      "   macro avg       0.79      0.79      0.79       178\n",
      "weighted avg       0.80      0.80      0.80       178\n",
      "\n",
      "[[90 20]\n",
      " [16 52]]\n",
      "\n",
      "\n",
      "Fold 5\n",
      "              precision    recall  f1-score   support\n",
      "\n",
      "         0.0       0.81      0.84      0.83       109\n",
      "         1.0       0.74      0.70      0.72        69\n",
      "\n",
      "    accuracy                           0.79       178\n",
      "   macro avg       0.78      0.77      0.77       178\n",
      "weighted avg       0.78      0.79      0.79       178\n",
      "\n",
      "[[92 17]\n",
      " [21 48]]\n",
      "\n",
      "\n"
     ]
    }
   ],
   "source": [
    "# initialize variables\n",
    "kf=StratifiedKFold(n_splits=5,shuffle=True,random_state=101)\n",
    "i=1\n",
    "\n",
    "# iterate through the k-fold split\n",
    "for trainer,tester in kf.split(train_s.drop('Survived',axis=1),train_s['Survived']):\n",
    "    \n",
    "    # define the training and test variables\n",
    "    X_train=train_s.iloc[trainer].drop(['Survived'],axis=1)\n",
    "    X_test=train_s.iloc[tester].drop(['Survived'],axis=1)\n",
    "    y_train=train_s.iloc[trainer]['Survived']\n",
    "    y_test=train_s.iloc[tester]['Survived']\n",
    "    \n",
    "    # fit the logistic regression\n",
    "    logm=LogisticRegressionCV(cv=5,max_iter=10000,random_state=101)\n",
    "    logm.fit(X_train,y_train)\n",
    "    \n",
    "    # make predictions\n",
    "    logm_pred=logm.predict(X_test)\n",
    "   \n",
    "    # print current metrics\n",
    "    print('Fold',i)\n",
    "    print(classification_report(y_test,logm_pred))\n",
    "    print(confusion_matrix(y_test,logm_pred))\n",
    "    print('\\n')\n",
    "    i=i+1"
   ]
  },
  {
   "cell_type": "markdown",
   "metadata": {},
   "source": [
    "A basic logistic regression did not turn out all too badly. Let's try a KNeighboursClassifier next.\n",
    "\n",
    "### K-Neighbours Classifier"
   ]
  },
  {
   "cell_type": "code",
   "execution_count": 228,
   "metadata": {},
   "outputs": [],
   "source": [
    "from sklearn.neighbors import KNeighborsClassifier"
   ]
  },
  {
   "cell_type": "markdown",
   "metadata": {},
   "source": [
    "We use the elbow method to determine an optimal number of neighbours."
   ]
  },
  {
   "cell_type": "code",
   "execution_count": 559,
   "metadata": {},
   "outputs": [
    {
     "data": {
      "text/plain": [
       "[<matplotlib.lines.Line2D at 0x19031a87eb0>]"
      ]
     },
     "execution_count": 559,
     "metadata": {},
     "output_type": "execute_result"
    },
    {
     "data": {
      "image/png": "[encoded data removed]",
      "text/plain": [
       "<Figure size 864x288 with 1 Axes>"
      ]
     },
     "metadata": {
      "needs_background": "light"
     },
     "output_type": "display_data"
    }
   ],
   "source": [
    "# initialize the variables\n",
    "X_train,X_test,y_train,y_test=train_test_split(train_s.drop(['Survived'],axis=1),train_s['Survived'],test_size=0.2,random_state=101)\n",
    "error=[]\n",
    "\n",
    "# fit the classifier using various values for k\n",
    "for i in range(1,41):\n",
    "    knn=KNeighborsClassifier(n_neighbors=i)\n",
    "    knn.fit(X_train,y_train)\n",
    "    knn_pred=knn.predict(X_test)\n",
    "    error.append(np.mean([knn_pred!=y_test]))\n",
    "    \n",
    "# plot the result    \n",
    "plt.figure(figsize=(12,4))\n",
    "plt.plot(range(1,41),error,marker='o',ls='--',markerfacecolor='red')"
   ]
  },
  {
   "cell_type": "markdown",
   "metadata": {},
   "source": [
    "We'll go with 21 neighbours."
   ]
  },
  {
   "cell_type": "code",
   "execution_count": 560,
   "metadata": {},
   "outputs": [
    {
     "name": "stdout",
     "output_type": "stream",
     "text": [
      "Fold 1\n",
      "              precision    recall  f1-score   support\n",
      "\n",
      "         0.0       0.78      0.93      0.85       110\n",
      "         1.0       0.83      0.58      0.68        69\n",
      "\n",
      "    accuracy                           0.79       179\n",
      "   macro avg       0.81      0.75      0.77       179\n",
      "weighted avg       0.80      0.79      0.78       179\n",
      "\n",
      "[[102   8]\n",
      " [ 29  40]]\n",
      "\n",
      "\n",
      "Fold 2\n",
      "              precision    recall  f1-score   support\n",
      "\n",
      "         0.0       0.82      0.97      0.89       110\n",
      "         1.0       0.94      0.65      0.77        68\n",
      "\n",
      "    accuracy                           0.85       178\n",
      "   macro avg       0.88      0.81      0.83       178\n",
      "weighted avg       0.86      0.85      0.84       178\n",
      "\n",
      "[[107   3]\n",
      " [ 24  44]]\n",
      "\n",
      "\n",
      "Fold 3\n",
      "              precision    recall  f1-score   support\n",
      "\n",
      "         0.0       0.84      0.91      0.87       110\n",
      "         1.0       0.83      0.72      0.77        68\n",
      "\n",
      "    accuracy                           0.84       178\n",
      "   macro avg       0.84      0.81      0.82       178\n",
      "weighted avg       0.84      0.84      0.83       178\n",
      "\n",
      "[[100  10]\n",
      " [ 19  49]]\n",
      "\n",
      "\n",
      "Fold 4\n",
      "              precision    recall  f1-score   support\n",
      "\n",
      "         0.0       0.81      0.91      0.85       110\n",
      "         1.0       0.81      0.65      0.72        68\n",
      "\n",
      "    accuracy                           0.81       178\n",
      "   macro avg       0.81      0.78      0.79       178\n",
      "weighted avg       0.81      0.81      0.80       178\n",
      "\n",
      "[[100  10]\n",
      " [ 24  44]]\n",
      "\n",
      "\n",
      "Fold 5\n",
      "              precision    recall  f1-score   support\n",
      "\n",
      "         0.0       0.81      0.83      0.82       109\n",
      "         1.0       0.73      0.70      0.71        69\n",
      "\n",
      "    accuracy                           0.78       178\n",
      "   macro avg       0.77      0.77      0.77       178\n",
      "weighted avg       0.78      0.78      0.78       178\n",
      "\n",
      "[[91 18]\n",
      " [21 48]]\n",
      "\n",
      "\n"
     ]
    }
   ],
   "source": [
    "# initialize variables\n",
    "kf=StratifiedKFold(n_splits=5,shuffle=True,random_state=101)\n",
    "pred=[]\n",
    "y_true=[]\n",
    "i=1\n",
    "\n",
    "# iterate through the k-fold split\n",
    "for trainer,tester in kf.split(train_s.drop('Survived',axis=1),train_s['Survived']):\n",
    "    \n",
    "    # define the training and test variables\n",
    "    X_train=train_s.iloc[trainer].drop(['Survived'],axis=1)\n",
    "    X_test=train_s.iloc[tester].drop(['Survived'],axis=1)\n",
    "    y_train=train_s.iloc[trainer]['Survived']\n",
    "    y_test=train_s.iloc[tester]['Survived']\n",
    "    \n",
    "    # perform the K-nearest neighbours algorithm\n",
    "    knn=KNeighborsClassifier(n_neighbors=21)\n",
    "    knn.fit(X_train,y_train)\n",
    "    \n",
    "    # make predictions\n",
    "    knn_pred=knn.predict(X_test)\n",
    "    \n",
    "    # print current metrics\n",
    "    print('Fold',i)\n",
    "    print(classification_report(y_test,knn_pred))\n",
    "    print(confusion_matrix(y_test,knn_pred))\n",
    "    print('\\n')\n",
    "    i=i+1"
   ]
  },
  {
   "cell_type": "markdown",
   "metadata": {},
   "source": [
    "The K-nearest neighbours approach seems to work roughly as well as a logistic regression. Let's try a random forest classifier next.\n",
    "\n",
    "### Random Forest Classifier"
   ]
  },
  {
   "cell_type": "code",
   "execution_count": 273,
   "metadata": {},
   "outputs": [],
   "source": [
    "from sklearn.ensemble import RandomForestClassifier"
   ]
  },
  {
   "cell_type": "code",
   "execution_count": 561,
   "metadata": {},
   "outputs": [
    {
     "name": "stderr",
     "output_type": "stream",
     "text": [
      "[Parallel(n_jobs=1)]: Using backend SequentialBackend with 1 concurrent workers.\n",
      "[Parallel(n_jobs=1)]: Done 1000 out of 1000 | elapsed:    1.0s finished\n",
      "[Parallel(n_jobs=1)]: Using backend SequentialBackend with 1 concurrent workers.\n",
      "[Parallel(n_jobs=1)]: Done 1000 out of 1000 | elapsed:    0.0s finished\n"
     ]
    },
    {
     "name": "stdout",
     "output_type": "stream",
     "text": [
      "Fold 1\n",
      "              precision    recall  f1-score   support\n",
      "\n",
      "         0.0       0.82      0.87      0.85       110\n",
      "         1.0       0.77      0.70      0.73        69\n",
      "\n",
      "    accuracy                           0.80       179\n",
      "   macro avg       0.80      0.78      0.79       179\n",
      "weighted avg       0.80      0.80      0.80       179\n",
      "\n",
      "[[96 14]\n",
      " [21 48]]\n",
      "\n",
      "\n"
     ]
    },
    {
     "name": "stderr",
     "output_type": "stream",
     "text": [
      "[Parallel(n_jobs=1)]: Using backend SequentialBackend with 1 concurrent workers.\n",
      "[Parallel(n_jobs=1)]: Done 1000 out of 1000 | elapsed:    1.1s finished\n",
      "[Parallel(n_jobs=1)]: Using backend SequentialBackend with 1 concurrent workers.\n",
      "[Parallel(n_jobs=1)]: Done 1000 out of 1000 | elapsed:    0.0s finished\n"
     ]
    },
    {
     "name": "stdout",
     "output_type": "stream",
     "text": [
      "Fold 2\n",
      "              precision    recall  f1-score   support\n",
      "\n",
      "         0.0       0.83      0.92      0.87       110\n",
      "         1.0       0.84      0.71      0.77        68\n",
      "\n",
      "    accuracy                           0.84       178\n",
      "   macro avg       0.84      0.81      0.82       178\n",
      "weighted avg       0.84      0.84      0.83       178\n",
      "\n",
      "[[101   9]\n",
      " [ 20  48]]\n",
      "\n",
      "\n"
     ]
    },
    {
     "name": "stderr",
     "output_type": "stream",
     "text": [
      "[Parallel(n_jobs=1)]: Using backend SequentialBackend with 1 concurrent workers.\n",
      "[Parallel(n_jobs=1)]: Done 1000 out of 1000 | elapsed:    1.1s finished\n",
      "[Parallel(n_jobs=1)]: Using backend SequentialBackend with 1 concurrent workers.\n",
      "[Parallel(n_jobs=1)]: Done 1000 out of 1000 | elapsed:    0.0s finished\n"
     ]
    },
    {
     "name": "stdout",
     "output_type": "stream",
     "text": [
      "Fold 3\n",
      "              precision    recall  f1-score   support\n",
      "\n",
      "         0.0       0.86      0.89      0.88       110\n",
      "         1.0       0.81      0.76      0.79        68\n",
      "\n",
      "    accuracy                           0.84       178\n",
      "   macro avg       0.84      0.83      0.83       178\n",
      "weighted avg       0.84      0.84      0.84       178\n",
      "\n",
      "[[98 12]\n",
      " [16 52]]\n",
      "\n",
      "\n"
     ]
    },
    {
     "name": "stderr",
     "output_type": "stream",
     "text": [
      "[Parallel(n_jobs=1)]: Using backend SequentialBackend with 1 concurrent workers.\n",
      "[Parallel(n_jobs=1)]: Done 1000 out of 1000 | elapsed:    1.1s finished\n",
      "[Parallel(n_jobs=1)]: Using backend SequentialBackend with 1 concurrent workers.\n",
      "[Parallel(n_jobs=1)]: Done 1000 out of 1000 | elapsed:    0.0s finished\n"
     ]
    },
    {
     "name": "stdout",
     "output_type": "stream",
     "text": [
      "Fold 4\n",
      "              precision    recall  f1-score   support\n",
      "\n",
      "         0.0       0.82      0.77      0.79       110\n",
      "         1.0       0.66      0.72      0.69        68\n",
      "\n",
      "    accuracy                           0.75       178\n",
      "   macro avg       0.74      0.75      0.74       178\n",
      "weighted avg       0.76      0.75      0.75       178\n",
      "\n",
      "[[85 25]\n",
      " [19 49]]\n",
      "\n",
      "\n"
     ]
    },
    {
     "name": "stderr",
     "output_type": "stream",
     "text": [
      "[Parallel(n_jobs=1)]: Using backend SequentialBackend with 1 concurrent workers.\n"
     ]
    },
    {
     "name": "stdout",
     "output_type": "stream",
     "text": [
      "Fold 5\n",
      "              precision    recall  f1-score   support\n",
      "\n",
      "         0.0       0.83      0.83      0.83       109\n",
      "         1.0       0.72      0.72      0.72        69\n",
      "\n",
      "    accuracy                           0.79       178\n",
      "   macro avg       0.78      0.78      0.78       178\n",
      "weighted avg       0.79      0.79      0.79       178\n",
      "\n",
      "[[90 19]\n",
      " [19 50]]\n",
      "\n",
      "\n"
     ]
    },
    {
     "name": "stderr",
     "output_type": "stream",
     "text": [
      "[Parallel(n_jobs=1)]: Done 1000 out of 1000 | elapsed:    1.1s finished\n",
      "[Parallel(n_jobs=1)]: Using backend SequentialBackend with 1 concurrent workers.\n",
      "[Parallel(n_jobs=1)]: Done 1000 out of 1000 | elapsed:    0.0s finished\n"
     ]
    }
   ],
   "source": [
    "# initialize variables\n",
    "kf=StratifiedKFold(n_splits=5,shuffle=True,random_state=101)\n",
    "i=1\n",
    "\n",
    "# iterate through the k-fold split\n",
    "for trainer,tester in kf.split(train_s.drop('Survived',axis=1),train_s['Survived']):\n",
    "    \n",
    "    # define the training and test variables\n",
    "    X_train=train_s.iloc[trainer].drop(['Survived'],axis=1)\n",
    "    X_test=train_s.iloc[tester].drop(['Survived'],axis=1)\n",
    "    y_train=train_s.iloc[trainer]['Survived']\n",
    "    y_test=train_s.iloc[tester]['Survived']\n",
    "    \n",
    "    # fit the random forest classifier\n",
    "    rfc=RandomForestClassifier(n_estimators=1000,verbose=1,random_state=101)\n",
    "    rfc.fit(X_train,y_train)\n",
    "    \n",
    "    # make predictions\n",
    "    rfc_pred=rfc.predict(X_test)\n",
    "    \n",
    "    # print current metrics\n",
    "    print('Fold',i)\n",
    "    print(classification_report(y_test,rfc_pred))\n",
    "    print(confusion_matrix(y_test,rfc_pred))\n",
    "    print('\\n')\n",
    "    i=i+1"
   ]
  },
  {
   "cell_type": "markdown",
   "metadata": {},
   "source": [
    "The random forest classifier performs decently. Next up is a support vector machine.\n",
    "\n",
    "### Support Vector Machine"
   ]
  },
  {
   "cell_type": "code",
   "execution_count": 278,
   "metadata": {},
   "outputs": [],
   "source": [
    "from sklearn.svm import SVC\n",
    "from sklearn.model_selection import GridSearchCV"
   ]
  },
  {
   "cell_type": "code",
   "execution_count": 564,
   "metadata": {},
   "outputs": [
    {
     "name": "stdout",
     "output_type": "stream",
     "text": [
      "Fitting 5 folds for each of 35 candidates, totalling 175 fits\n"
     ]
    },
    {
     "name": "stderr",
     "output_type": "stream",
     "text": [
      "[Parallel(n_jobs=1)]: Using backend SequentialBackend with 1 concurrent workers.\n",
      "[Parallel(n_jobs=1)]: Done 175 out of 175 | elapsed:    5.8s finished\n",
      "[Parallel(n_jobs=1)]: Using backend SequentialBackend with 1 concurrent workers.\n"
     ]
    },
    {
     "name": "stdout",
     "output_type": "stream",
     "text": [
      "Fold 1\n",
      "Best Parameters: {'C': 3000.0, 'gamma': 0.003}\n",
      "              precision    recall  f1-score   support\n",
      "\n",
      "         0.0       0.81      0.89      0.85       110\n",
      "         1.0       0.79      0.67      0.72        69\n",
      "\n",
      "    accuracy                           0.80       179\n",
      "   macro avg       0.80      0.78      0.79       179\n",
      "weighted avg       0.80      0.80      0.80       179\n",
      "\n",
      "[[98 12]\n",
      " [23 46]]\n",
      "\n",
      "\n",
      "Fitting 5 folds for each of 35 candidates, totalling 175 fits\n"
     ]
    },
    {
     "name": "stderr",
     "output_type": "stream",
     "text": [
      "[Parallel(n_jobs=1)]: Done 175 out of 175 | elapsed:    5.3s finished\n",
      "[Parallel(n_jobs=1)]: Using backend SequentialBackend with 1 concurrent workers.\n"
     ]
    },
    {
     "name": "stdout",
     "output_type": "stream",
     "text": [
      "Fold 2\n",
      "Best Parameters: {'C': 30.0, 'gamma': 0.03}\n",
      "              precision    recall  f1-score   support\n",
      "\n",
      "         0.0       0.85      0.96      0.91       110\n",
      "         1.0       0.93      0.74      0.82        68\n",
      "\n",
      "    accuracy                           0.88       178\n",
      "   macro avg       0.89      0.85      0.86       178\n",
      "weighted avg       0.88      0.88      0.87       178\n",
      "\n",
      "[[106   4]\n",
      " [ 18  50]]\n",
      "\n",
      "\n",
      "Fitting 5 folds for each of 35 candidates, totalling 175 fits\n"
     ]
    },
    {
     "name": "stderr",
     "output_type": "stream",
     "text": [
      "[Parallel(n_jobs=1)]: Done 175 out of 175 | elapsed:    5.4s finished\n",
      "[Parallel(n_jobs=1)]: Using backend SequentialBackend with 1 concurrent workers.\n"
     ]
    },
    {
     "name": "stdout",
     "output_type": "stream",
     "text": [
      "Fold 3\n",
      "Best Parameters: {'C': 30.0, 'gamma': 0.03}\n",
      "              precision    recall  f1-score   support\n",
      "\n",
      "         0.0       0.90      0.89      0.89       110\n",
      "         1.0       0.83      0.84      0.83        68\n",
      "\n",
      "    accuracy                           0.87       178\n",
      "   macro avg       0.86      0.86      0.86       178\n",
      "weighted avg       0.87      0.87      0.87       178\n",
      "\n",
      "[[98 12]\n",
      " [11 57]]\n",
      "\n",
      "\n",
      "Fitting 5 folds for each of 35 candidates, totalling 175 fits\n"
     ]
    },
    {
     "name": "stderr",
     "output_type": "stream",
     "text": [
      "[Parallel(n_jobs=1)]: Done 175 out of 175 | elapsed:    5.6s finished\n",
      "[Parallel(n_jobs=1)]: Using backend SequentialBackend with 1 concurrent workers.\n"
     ]
    },
    {
     "name": "stdout",
     "output_type": "stream",
     "text": [
      "Fold 4\n",
      "Best Parameters: {'C': 30.0, 'gamma': 0.1}\n",
      "              precision    recall  f1-score   support\n",
      "\n",
      "         0.0       0.83      0.85      0.84       110\n",
      "         1.0       0.75      0.72      0.74        68\n",
      "\n",
      "    accuracy                           0.80       178\n",
      "   macro avg       0.79      0.79      0.79       178\n",
      "weighted avg       0.80      0.80      0.80       178\n",
      "\n",
      "[[94 16]\n",
      " [19 49]]\n",
      "\n",
      "\n",
      "Fitting 5 folds for each of 35 candidates, totalling 175 fits\n",
      "Fold 5\n",
      "Best Parameters: {'C': 30.0, 'gamma': 0.03}\n",
      "              precision    recall  f1-score   support\n",
      "\n",
      "         0.0       0.82      0.88      0.85       109\n",
      "         1.0       0.79      0.70      0.74        69\n",
      "\n",
      "    accuracy                           0.81       178\n",
      "   macro avg       0.80      0.79      0.79       178\n",
      "weighted avg       0.81      0.81      0.81       178\n",
      "\n",
      "[[96 13]\n",
      " [21 48]]\n",
      "\n",
      "\n"
     ]
    },
    {
     "name": "stderr",
     "output_type": "stream",
     "text": [
      "[Parallel(n_jobs=1)]: Done 175 out of 175 | elapsed:    5.6s finished\n"
     ]
    }
   ],
   "source": [
    "# initialize variables\n",
    "kf=StratifiedKFold(n_splits=5,shuffle=True,random_state=101)\n",
    "i=1\n",
    "\n",
    "# iterate through the k-fold split\n",
    "for trainer,tester in kf.split(train_s.drop('Survived',axis=1),train_s['Survived']):\n",
    "    \n",
    "    # define the training and test variables\n",
    "    X_train=train_s.iloc[trainer].drop(['Survived'],axis=1)\n",
    "    X_test=train_s.iloc[tester].drop(['Survived'],axis=1)\n",
    "    y_train=train_s.iloc[trainer]['Survived']\n",
    "    y_test=train_s.iloc[tester]['Survived']\n",
    "    \n",
    "    # conduct a grid search\n",
    "    param_grid = {'C': [1e1,3e1,1e2,3e2,1e3,3e3,1e4], 'gamma': [1e-3,3e-3,1e-2,3e-2,1e-1]}\n",
    "    svc=GridSearchCV(estimator=SVC(random_state=101),param_grid=param_grid,verbose=1)\n",
    "    \n",
    "    # fit the model\n",
    "    svc.fit(X_train,y_train)\n",
    "    \n",
    "    # record values for later analysis\n",
    "    svc_pred=svc.predict(X_test)\n",
    "\n",
    "    # print current metrics\n",
    "    print('Fold',i)\n",
    "    print('Best Parameters:',svc.best_params_)\n",
    "    print(classification_report(y_test,svc_pred))\n",
    "    print(confusion_matrix(y_test,svc_pred))\n",
    "    print('\\n')\n",
    "    i=i+1"
   ]
  },
  {
   "cell_type": "markdown",
   "metadata": {},
   "source": [
    "The support vector classifier with a grid search makes pretty decent predictions! Let's try a neural network next.\n",
    "\n",
    "### Neural Network"
   ]
  },
  {
   "cell_type": "code",
   "execution_count": 297,
   "metadata": {},
   "outputs": [],
   "source": [
    "from tensorflow.keras.models import Sequential\n",
    "from tensorflow.keras.layers import Dense,Dropout\n",
    "from tensorflow.keras.callbacks import EarlyStopping"
   ]
  },
  {
   "cell_type": "code",
   "execution_count": 415,
   "metadata": {},
   "outputs": [
    {
     "data": {
      "text/plain": [
       "15"
      ]
     },
     "execution_count": 415,
     "metadata": {},
     "output_type": "execute_result"
    }
   ],
   "source": [
    "len(train_s.columns)"
   ]
  },
  {
   "cell_type": "code",
   "execution_count": 565,
   "metadata": {},
   "outputs": [
    {
     "name": "stdout",
     "output_type": "stream",
     "text": [
      "Fold 1\n",
      "              precision    recall  f1-score   support\n",
      "\n",
      "         0.0       0.81      0.93      0.86       110\n",
      "         1.0       0.85      0.65      0.74        69\n",
      "\n",
      "    accuracy                           0.82       179\n",
      "   macro avg       0.83      0.79      0.80       179\n",
      "weighted avg       0.82      0.82      0.82       179\n",
      "\n",
      "[[102   8]\n",
      " [ 24  45]]\n",
      "\n",
      "\n",
      "Fold 2\n",
      "              precision    recall  f1-score   support\n",
      "\n",
      "         0.0       0.85      0.96      0.90       110\n",
      "         1.0       0.92      0.72      0.81        68\n",
      "\n",
      "    accuracy                           0.87       178\n",
      "   macro avg       0.89      0.84      0.86       178\n",
      "weighted avg       0.88      0.87      0.87       178\n",
      "\n",
      "[[106   4]\n",
      " [ 19  49]]\n",
      "\n",
      "\n",
      "Fold 3\n",
      "              precision    recall  f1-score   support\n",
      "\n",
      "         0.0       0.85      0.90      0.88       110\n",
      "         1.0       0.82      0.75      0.78        68\n",
      "\n",
      "    accuracy                           0.84       178\n",
      "   macro avg       0.84      0.82      0.83       178\n",
      "weighted avg       0.84      0.84      0.84       178\n",
      "\n",
      "[[99 11]\n",
      " [17 51]]\n",
      "\n",
      "\n",
      "Fold 4\n",
      "              precision    recall  f1-score   support\n",
      "\n",
      "         0.0       0.84      0.87      0.86       110\n",
      "         1.0       0.78      0.74      0.76        68\n",
      "\n",
      "    accuracy                           0.82       178\n",
      "   macro avg       0.81      0.80      0.81       178\n",
      "weighted avg       0.82      0.82      0.82       178\n",
      "\n",
      "[[96 14]\n",
      " [18 50]]\n",
      "\n",
      "\n",
      "Fold 5\n",
      "              precision    recall  f1-score   support\n",
      "\n",
      "         0.0       0.84      0.85      0.85       109\n",
      "         1.0       0.76      0.74      0.75        69\n",
      "\n",
      "    accuracy                           0.81       178\n",
      "   macro avg       0.80      0.80      0.80       178\n",
      "weighted avg       0.81      0.81      0.81       178\n",
      "\n",
      "[[93 16]\n",
      " [18 51]]\n",
      "\n",
      "\n"
     ]
    }
   ],
   "source": [
    "# initialize variables\n",
    "kf=StratifiedKFold(n_splits=5,shuffle=True,random_state=101)\n",
    "i=1\n",
    "stop=EarlyStopping(mode='min',patience=20,restore_best_weights=True)\n",
    "\n",
    "# iterate through the k-fold split\n",
    "for trainer,tester in kf.split(train_s.drop('Survived',axis=1),train_s['Survived']):\n",
    "    \n",
    "    # create the model\n",
    "    model=Sequential()\n",
    "    model.add(Dense(units=15,activation='relu'))\n",
    "#     model.add(Dropout(0.2))\n",
    "    model.add(Dense(units=8,activation='relu'))\n",
    "#     model.add(Dropout(0.5))\n",
    "    model.add(Dense(units=4,activation='relu'))\n",
    "#     model.add(Dropout(0.5))\n",
    "    model.add(Dense(units=1,activation='sigmoid'))\n",
    "    model.compile(optimizer='adam',loss='binary_crossentropy',metrics=['accuracy'])\n",
    "    \n",
    "    # define the training and test variables\n",
    "    X_train=train_s.iloc[trainer].drop(['Survived'],axis=1)\n",
    "    X_test=train_s.iloc[tester].drop(['Survived'],axis=1)\n",
    "    y_train=train_s.iloc[trainer]['Survived']\n",
    "    y_test=train_s.iloc[tester]['Survived']\n",
    "\n",
    "    # fit the model\n",
    "    model.fit(x=X_train,y=y_train,epochs=1000,verbose=0,callbacks=[stop],validation_data=(X_test,y_test))\n",
    "    \n",
    "    # make predictions\n",
    "    ann_pred=model.predict(X_test)>0.5\n",
    "    \n",
    "    # print current metrics\n",
    "    print('Fold',i)\n",
    "    print(classification_report(y_test,ann_pred))\n",
    "    print(confusion_matrix(y_test,ann_pred))\n",
    "    print('\\n')\n",
    "    i=i+1"
   ]
  },
  {
   "cell_type": "markdown",
   "metadata": {},
   "source": [
    "The neural network also performs quite well. For our final algorithm we will use an ensemble voting method.\n",
    "\n",
    "### Ensemble Voting\n",
    "\n",
    "We average our findings from the five previous methods."
   ]
  },
  {
   "cell_type": "code",
   "execution_count": 566,
   "metadata": {
    "scrolled": false
   },
   "outputs": [
    {
     "name": "stderr",
     "output_type": "stream",
     "text": [
      "[Parallel(n_jobs=1)]: Using backend SequentialBackend with 1 concurrent workers.\n",
      "[Parallel(n_jobs=1)]: Done 1000 out of 1000 | elapsed:    1.0s finished\n",
      "[Parallel(n_jobs=1)]: Using backend SequentialBackend with 1 concurrent workers.\n"
     ]
    },
    {
     "name": "stdout",
     "output_type": "stream",
     "text": [
      "Fitting 5 folds for each of 35 candidates, totalling 175 fits\n"
     ]
    },
    {
     "name": "stderr",
     "output_type": "stream",
     "text": [
      "[Parallel(n_jobs=1)]: Done 175 out of 175 | elapsed:    5.8s finished\n",
      "[Parallel(n_jobs=1)]: Using backend SequentialBackend with 1 concurrent workers.\n",
      "[Parallel(n_jobs=1)]: Done 1000 out of 1000 | elapsed:    0.0s finished\n"
     ]
    },
    {
     "name": "stdout",
     "output_type": "stream",
     "text": [
      "Fold 1\n",
      "              precision    recall  f1-score   support\n",
      "\n",
      "         0.0       0.82      0.91      0.86       110\n",
      "         1.0       0.82      0.68      0.75        69\n",
      "\n",
      "    accuracy                           0.82       179\n",
      "   macro avg       0.82      0.80      0.80       179\n",
      "weighted avg       0.82      0.82      0.82       179\n",
      "\n",
      "[[100  10]\n",
      " [ 22  47]]\n",
      "\n",
      "\n"
     ]
    },
    {
     "name": "stderr",
     "output_type": "stream",
     "text": [
      "[Parallel(n_jobs=1)]: Using backend SequentialBackend with 1 concurrent workers.\n",
      "[Parallel(n_jobs=1)]: Done 1000 out of 1000 | elapsed:    1.0s finished\n",
      "[Parallel(n_jobs=1)]: Using backend SequentialBackend with 1 concurrent workers.\n"
     ]
    },
    {
     "name": "stdout",
     "output_type": "stream",
     "text": [
      "Fitting 5 folds for each of 35 candidates, totalling 175 fits\n"
     ]
    },
    {
     "name": "stderr",
     "output_type": "stream",
     "text": [
      "[Parallel(n_jobs=1)]: Done 175 out of 175 | elapsed:    5.2s finished\n",
      "[Parallel(n_jobs=1)]: Using backend SequentialBackend with 1 concurrent workers.\n",
      "[Parallel(n_jobs=1)]: Done 1000 out of 1000 | elapsed:    0.0s finished\n"
     ]
    },
    {
     "name": "stdout",
     "output_type": "stream",
     "text": [
      "Fold 2\n",
      "              precision    recall  f1-score   support\n",
      "\n",
      "         0.0       0.86      0.97      0.91       110\n",
      "         1.0       0.94      0.74      0.83        68\n",
      "\n",
      "    accuracy                           0.88       178\n",
      "   macro avg       0.90      0.85      0.87       178\n",
      "weighted avg       0.89      0.88      0.88       178\n",
      "\n",
      "[[107   3]\n",
      " [ 18  50]]\n",
      "\n",
      "\n"
     ]
    },
    {
     "name": "stderr",
     "output_type": "stream",
     "text": [
      "[Parallel(n_jobs=1)]: Using backend SequentialBackend with 1 concurrent workers.\n",
      "[Parallel(n_jobs=1)]: Done 1000 out of 1000 | elapsed:    1.0s finished\n",
      "[Parallel(n_jobs=1)]: Using backend SequentialBackend with 1 concurrent workers.\n"
     ]
    },
    {
     "name": "stdout",
     "output_type": "stream",
     "text": [
      "Fitting 5 folds for each of 35 candidates, totalling 175 fits\n"
     ]
    },
    {
     "name": "stderr",
     "output_type": "stream",
     "text": [
      "[Parallel(n_jobs=1)]: Done 175 out of 175 | elapsed:    5.2s finished\n",
      "[Parallel(n_jobs=1)]: Using backend SequentialBackend with 1 concurrent workers.\n",
      "[Parallel(n_jobs=1)]: Done 1000 out of 1000 | elapsed:    0.0s finished\n"
     ]
    },
    {
     "name": "stdout",
     "output_type": "stream",
     "text": [
      "Fold 3\n",
      "              precision    recall  f1-score   support\n",
      "\n",
      "         0.0       0.89      0.89      0.89       110\n",
      "         1.0       0.82      0.82      0.82        68\n",
      "\n",
      "    accuracy                           0.87       178\n",
      "   macro avg       0.86      0.86      0.86       178\n",
      "weighted avg       0.87      0.87      0.87       178\n",
      "\n",
      "[[98 12]\n",
      " [12 56]]\n",
      "\n",
      "\n"
     ]
    },
    {
     "name": "stderr",
     "output_type": "stream",
     "text": [
      "[Parallel(n_jobs=1)]: Using backend SequentialBackend with 1 concurrent workers.\n",
      "[Parallel(n_jobs=1)]: Done 1000 out of 1000 | elapsed:    1.0s finished\n",
      "[Parallel(n_jobs=1)]: Using backend SequentialBackend with 1 concurrent workers.\n"
     ]
    },
    {
     "name": "stdout",
     "output_type": "stream",
     "text": [
      "Fitting 5 folds for each of 35 candidates, totalling 175 fits\n"
     ]
    },
    {
     "name": "stderr",
     "output_type": "stream",
     "text": [
      "[Parallel(n_jobs=1)]: Done 175 out of 175 | elapsed:    5.7s finished\n",
      "[Parallel(n_jobs=1)]: Using backend SequentialBackend with 1 concurrent workers.\n",
      "[Parallel(n_jobs=1)]: Done 1000 out of 1000 | elapsed:    0.0s finished\n"
     ]
    },
    {
     "name": "stdout",
     "output_type": "stream",
     "text": [
      "Fold 4\n",
      "              precision    recall  f1-score   support\n",
      "\n",
      "         0.0       0.84      0.86      0.85       110\n",
      "         1.0       0.77      0.74      0.75        68\n",
      "\n",
      "    accuracy                           0.81       178\n",
      "   macro avg       0.80      0.80      0.80       178\n",
      "weighted avg       0.81      0.81      0.81       178\n",
      "\n",
      "[[95 15]\n",
      " [18 50]]\n",
      "\n",
      "\n"
     ]
    },
    {
     "name": "stderr",
     "output_type": "stream",
     "text": [
      "[Parallel(n_jobs=1)]: Using backend SequentialBackend with 1 concurrent workers.\n",
      "[Parallel(n_jobs=1)]: Done 1000 out of 1000 | elapsed:    1.1s finished\n",
      "[Parallel(n_jobs=1)]: Using backend SequentialBackend with 1 concurrent workers.\n"
     ]
    },
    {
     "name": "stdout",
     "output_type": "stream",
     "text": [
      "Fitting 5 folds for each of 35 candidates, totalling 175 fits\n"
     ]
    },
    {
     "name": "stderr",
     "output_type": "stream",
     "text": [
      "[Parallel(n_jobs=1)]: Done 175 out of 175 | elapsed:    5.1s finished\n",
      "[Parallel(n_jobs=1)]: Using backend SequentialBackend with 1 concurrent workers.\n",
      "[Parallel(n_jobs=1)]: Done 1000 out of 1000 | elapsed:    0.0s finished\n"
     ]
    },
    {
     "name": "stdout",
     "output_type": "stream",
     "text": [
      "Fold 5\n",
      "              precision    recall  f1-score   support\n",
      "\n",
      "         0.0       0.83      0.84      0.84       109\n",
      "         1.0       0.75      0.72      0.74        69\n",
      "\n",
      "    accuracy                           0.80       178\n",
      "   macro avg       0.79      0.78      0.79       178\n",
      "weighted avg       0.80      0.80      0.80       178\n",
      "\n",
      "[[92 17]\n",
      " [19 50]]\n",
      "\n",
      "\n"
     ]
    }
   ],
   "source": [
    "# initialize variables\n",
    "kf=StratifiedKFold(n_splits=5,shuffle=True,random_state=101)\n",
    "i=1\n",
    "stop=EarlyStopping(mode='min',patience=20,restore_best_weights=True)\n",
    "\n",
    "# iterate through the k-fold split\n",
    "for trainer,tester in kf.split(train_s.drop('Survived',axis=1),train_s['Survived']):\n",
    "    \n",
    "    # define the training and test variables\n",
    "    X_train=train_s.iloc[trainer].drop(['Survived'],axis=1)\n",
    "    X_test=train_s.iloc[tester].drop(['Survived'],axis=1)\n",
    "    y_train=train_s.iloc[trainer]['Survived']\n",
    "    y_test=train_s.iloc[tester]['Survived']\n",
    "    \n",
    "    # fit the various models (excluding the neural network)\n",
    "    logm=LogisticRegressionCV(cv=5,max_iter=10000,random_state=101)\n",
    "    logm.fit(X_train,y_train)\n",
    "    knn=KNeighborsClassifier(n_neighbors=21)\n",
    "    knn.fit(X_train,y_train)\n",
    "    rfc=RandomForestClassifier(n_estimators=1000,verbose=1,random_state=101)\n",
    "    rfc.fit(X_train,y_train)\n",
    "    param_grid = {'C': [1e1,3e1,1e2,3e2,1e3,3e3,1e4], 'gamma': [1e-3,3e-3,1e-2,3e-2,1e-1], 'kernel': ['rbf']}\n",
    "    gs=GridSearchCV(estimator=SVC(random_state=101),param_grid=param_grid,verbose=1)\n",
    "    gs.fit(X_train,y_train)\n",
    "    \n",
    "    # create and fit the neural network\n",
    "    model=Sequential()\n",
    "    model.add(Dense(units=15,activation='relu'))\n",
    "#     model.add(Dropout(0.2))\n",
    "    model.add(Dense(units=8,activation='relu'))\n",
    "    model.add(Dropout(0.5))\n",
    "    model.add(Dense(units=4,activation='relu'))\n",
    "#     model.add(Dropout(0.5))\n",
    "    model.add(Dense(units=1,activation='sigmoid'))\n",
    "    model.compile(optimizer='adam',loss='binary_crossentropy',metrics=['accuracy'])\n",
    "    model.fit(x=X_train,y=y_train,epochs=1000,verbose=0,callbacks=[stop],validation_data=(X_test,y_test))\n",
    "    \n",
    "    # make predictions\n",
    "    logm_pred=logm.predict(X_test)\n",
    "    knn_pred=knn.predict(X_test)\n",
    "    rfc_pred=rfc.predict(X_test)\n",
    "    gs_pred=gs.predict(X_test)\n",
    "    ann_pred=1*((model.predict(X_test)>0.5).reshape(len(X_test)))\n",
    "    \n",
    "    # average the predictions\n",
    "    vote_pred=((logm_pred+knn_pred+rfc_pred+gs_pred+ann_pred)/5)>0.5\n",
    "   \n",
    "    # print current metrics\n",
    "    print('Fold',i)\n",
    "    print(classification_report(y_test,vote_pred))\n",
    "    print(confusion_matrix(y_test,vote_pred))\n",
    "    print('\\n')\n",
    "    i=i+1"
   ]
  },
  {
   "cell_type": "markdown",
   "metadata": {},
   "source": [
    "The ensemble classifier seems to work best so we will use that for our Kaggle submission."
   ]
  },
  {
   "cell_type": "code",
   "execution_count": 567,
   "metadata": {},
   "outputs": [
    {
     "name": "stderr",
     "output_type": "stream",
     "text": [
      "[Parallel(n_jobs=1)]: Using backend SequentialBackend with 1 concurrent workers.\n",
      "[Parallel(n_jobs=1)]: Done 1000 out of 1000 | elapsed:    1.2s finished\n",
      "[Parallel(n_jobs=1)]: Using backend SequentialBackend with 1 concurrent workers.\n"
     ]
    },
    {
     "name": "stdout",
     "output_type": "stream",
     "text": [
      "Fitting 5 folds for each of 35 candidates, totalling 175 fits\n"
     ]
    },
    {
     "name": "stderr",
     "output_type": "stream",
     "text": [
      "[Parallel(n_jobs=1)]: Done 175 out of 175 | elapsed:    8.3s finished\n",
      "[Parallel(n_jobs=1)]: Using backend SequentialBackend with 1 concurrent workers.\n",
      "[Parallel(n_jobs=1)]: Done 1000 out of 1000 | elapsed:    0.0s finished\n"
     ]
    }
   ],
   "source": [
    "# create the early stopping callback\n",
    "stop=EarlyStopping(mode='min',patience=20,restore_best_weights=True)\n",
    "\n",
    "# define the train and test sets\n",
    "X_train=train_s.drop('Survived',axis=1)\n",
    "X_test=test_s\n",
    "y_train=train_s['Survived']\n",
    "\n",
    "# fit the various models (excluding the neural network)\n",
    "logm=LogisticRegressionCV(cv=5,max_iter=10000,random_state=101)\n",
    "logm.fit(X_train,y_train)\n",
    "knn=KNeighborsClassifier(n_neighbors=21)\n",
    "knn.fit(X_train,y_train)\n",
    "rfc=RandomForestClassifier(n_estimators=1000,verbose=1,random_state=101)\n",
    "rfc.fit(X_train,y_train)\n",
    "param_grid = {'C': [1e1,3e1,1e2,3e2,1e3,3e3,1e4], 'gamma': [1e-3,3e-3,1e-2,3e-2,1e-1], 'kernel': ['rbf']}\n",
    "gs=GridSearchCV(estimator=SVC(random_state=101),param_grid=param_grid,verbose=1)\n",
    "gs.fit(X_train,y_train)\n",
    "    \n",
    "# create validation data for the neural network\n",
    "X_train_ann,X_test_ann,y_train_ann,y_test_ann=train_test_split(X_train,y_train,test_size=0.2,random_state=101)\n",
    "    \n",
    "# create and fit the neural network using validation data\n",
    "model=Sequential()\n",
    "model.add(Dense(units=15,activation='relu'))\n",
    "# model.add(Dropout(0.2))\n",
    "model.add(Dense(units=8,activation='relu'))\n",
    "# model.add(Dropout(0.5))\n",
    "model.add(Dense(units=4,activation='relu'))\n",
    "# model.add(Dropout(0.5))\n",
    "model.add(Dense(units=1,activation='sigmoid'))\n",
    "model.compile(optimizer='adam',loss='binary_crossentropy',metrics=['accuracy'])\n",
    "model.fit(x=X_train_ann,y=y_train_ann,epochs=1000,verbose=0,callbacks=[stop],validation_data=(X_test_ann,y_test_ann))\n",
    "    \n",
    "# make predictions\n",
    "logm_pred=logm.predict(X_test)\n",
    "knn_pred=knn.predict(X_test)\n",
    "rfc_pred=rfc.predict(X_test)\n",
    "gs_pred=gs.predict(X_test)\n",
    "ann_pred=1*((model.predict(X_test)>0.5).reshape(len(X_test)))\n",
    "    \n",
    "# average the predictions\n",
    "pred=1*(((curr_logm_pred+curr_knn_pred+curr_rfc_pred+curr_gs_pred+curr_ann_pred)/5)>0.5)\n",
    "\n",
    "# create a dataframe containing our predictions\n",
    "orig_test=pd.read_csv('test.csv')\n",
    "submission=pd.DataFrame(data={'PassengerId':orig_test['PassengerId'],'Survived':pred})\n",
    "\n",
    "# create a csv file from the dataframe\n",
    "submission.to_csv(path_or_buf='submission.csv',index=False)"
   ]
  },
  {
   "cell_type": "markdown",
   "metadata": {},
   "source": [
    "The above submission yields a score of 0.78708, i.e. our predictions had an accuracy of 78.708%. This is not bad at all, putting our submission in the top 13% of Kaggle's leaderboard. Note that this accuracy is substantially lower than the accuracy on our validation data, suggesting some overfitting going on.\n",
    "\n",
    "# Conclusion\n",
    "\n",
    "As far as first forays into machine learning go I would say our results are rather good! There is certainly room for improvement, e.g. better feature engineering (perhaps the ticket data contains more useful information than we thought) as well as fine-tuning of our models. However, as this was meant to be more of a learning experience for me I think I will leave this project where it is (for now at least)."
   ]
  }
 ],
 "metadata": {
  "kernelspec": {
   "display_name": "Python 3",
   "language": "python",
   "name": "python3"
  },
  "language_info": {
   "codemirror_mode": {
    "name": "ipython",
    "version": 3
   },
   "file_extension": ".py",
   "mimetype": "text/x-python",
   "name": "python",
   "nbconvert_exporter": "python",
   "pygments_lexer": "ipython3",
   "version": "3.8.5"
  }
 },
 "nbformat": 4,
 "nbformat_minor": 4
}
